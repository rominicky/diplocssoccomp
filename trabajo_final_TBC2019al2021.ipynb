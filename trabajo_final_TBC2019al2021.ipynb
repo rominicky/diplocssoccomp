{
 "cells": [
  {
   "cell_type": "markdown",
   "metadata": {
    "id": "view-in-github"
   },
   "source": [
    "<a href=\"https://colab.research.google.com/github/rominicky/diplocssoccomp/blob/main/trabajo_final_TBC2019al2021.ipynb\" target=\"_parent\"><img src=\"https://colab.research.google.com/assets/colab-badge.svg\" alt=\"Open In Colab\"/></a>"
   ]
  },
  {
   "cell_type": "markdown",
   "metadata": {
    "id": "6wzRacyQU45H"
   },
   "source": [
    "# TRABAJO INTEGRADOR\n",
    "# DIPLOMATURA EN CIENCIAS SOCIALES COMPUTACIONALES\n",
    "#### Estudiantes:\n",
    "- Romina De León\n",
    "- Magali Wettstein"
   ]
  },
  {
   "cell_type": "code",
   "execution_count": 2,
   "metadata": {
    "colab": {
     "base_uri": "https://localhost:8080/"
    },
    "id": "GF-Yt3EjplDD",
    "outputId": "b4524c4a-2dba-4441-9d66-aa90abfa57a3"
   },
   "outputs": [
    {
     "name": "stdout",
     "output_type": "stream",
     "text": [
      "Requirement already satisfied: openpyxl in c:\\programdata\\anaconda3\\lib\\site-packages (3.1.2)\n",
      "Requirement already satisfied: et-xmlfile in c:\\programdata\\anaconda3\\lib\\site-packages (from openpyxl) (1.1.0)\n"
     ]
    }
   ],
   "source": [
    "!pip install seaborn\n",
    "!pip install scikit-learn\n",
    "!pip install KMeans\n",
    "!pip install geopandas\n",
    "!pip install contextily\n",
    "!pip install openpyxl"
   ]
  },
  {
   "cell_type": "code",
   "execution_count": 1,
   "metadata": {
    "colab": {
     "base_uri": "https://localhost:8080/"
    },
    "id": "Uz04O5d3U2Ll",
    "outputId": "267c735d-efa1-4e19-c8c5-7754eca38212",
    "scrolled": true
   },
   "outputs": [],
   "source": [
    "import requests\n",
    "import contextily as ctx\n",
    "import pandas as pd\n",
    "import numpy as np\n",
    "import matplotlib.pyplot as plt\n",
    "import seaborn as sns\n",
    "from sklearn.model_selection import train_test_split\n",
    "from sklearn.linear_model import LinearRegression\n",
    "from sklearn.cluster import KMeans\n",
    "import geopandas as gpd"
   ]
  },
  {
   "cell_type": "markdown",
   "metadata": {
    "id": "WmU_AlKBjwRf"
   },
   "source": [
    "## Resumen\n",
    "El presente informe tiene por objetivo presentar una evaluación actualizada de la notificación de casos de Tuberculosis (TB) en Argentina durante el período 2019-2021.\n",
    "La información utilizada es resultante de la comunicación de casos mediante el Sistema Nacional de Vigilancia de la Salud (SNVS 2.0, https://sisa.msal.gov.ar/sisa/#sisa). Desde dicho sitio se genera un reporte individual por parte de los servicios de salud a lo largo y ancho del país, de manera remota e inmediata."
   ]
  },
  {
   "cell_type": "markdown",
   "metadata": {},
   "source": [
    "## Material\n",
    "Para el presente análisis se descargó el informe de reportes al 31 de agosto de 2023 del SNVS 2.0 (*ACA DEBEMOS AGREGAR EL URL*), con los casos registrados y validados de 24 jurisdicciones argentinas entre los años 2019 y 2021.\n",
    "Asimismo, como el archivo no era descargable directamente de URL, se subió al repositorio GitHub de una de las estudiantes, para generar un trabajo colaborativo más sencillo, que permite generar cambios y mantener actualizado el seguimiento de los progresos. De igual manera, se añadió el código de esta Notebook y con su respectivo acceso a Google Colab."
   ]
  },
  {
   "cell_type": "markdown",
   "metadata": {},
   "source": [
    "## Código para el análisis de la Base de Datos\n",
    "### Carga de datos"
   ]
  },
  {
   "cell_type": "markdown",
   "metadata": {},
   "source": [
    "1. Se carga el conjunto de datos desde un archivo Excel alojado en un repositorio de GitHub, como primer paso se asigna la variable, y luego se procede a la lectura del archivo y su transformación en DataFrame.\n",
    "2. Se observa las primeras filas del dataframe."
   ]
  },
  {
   "cell_type": "code",
   "execution_count": 2,
   "metadata": {
    "id": "BIdDWws9Vx0w"
   },
   "outputs": [],
   "source": [
    "# Cargar el conjunto de datos\n",
    "fileurl = 'https://github.com/rominicky/diplocssoc/raw/main/TBC-NOTIFICACION_2019al2021.xlsx'"
   ]
  },
  {
   "cell_type": "code",
   "execution_count": null,
   "metadata": {
    "id": "hgl4ArvcMyp_"
   },
   "outputs": [],
   "source": [
    "df = pd.read_excel(fileurl)"
   ]
  },
  {
   "cell_type": "code",
   "execution_count": null,
   "metadata": {
    "colab": {
     "base_uri": "https://localhost:8080/",
     "height": 586
    },
    "id": "6ZRHPEMKgVoJ",
    "outputId": "05457ca3-d6c6-434f-9aef-33bc146447e3"
   },
   "outputs": [],
   "source": [
    "df.head(10)"
   ]
  },
  {
   "cell_type": "markdown",
   "metadata": {
    "id": "w5oNQvk_jRbJ"
   },
   "source": [
    "### Exploración el Data Frame\n",
    "\n",
    "Mediante la función *shape* se busca conocer:\n",
    "\n",
    "1. Dimensión\n",
    "2. Cantidad de filas y columnas\n",
    "3. Nombre de columnas\n",
    "4. Tipo de datos de las columnas\n",
    "5. Verificación de datos nulos"
   ]
  },
  {
   "cell_type": "code",
   "execution_count": null,
   "metadata": {
    "colab": {
     "base_uri": "https://localhost:8080/"
    },
    "id": "tDyYn9kWjQDS",
    "outputId": "e4a86861-a099-4ed6-dbc6-fc518bbf0fbe"
   },
   "outputs": [],
   "source": [
    "dimension = df.shape\n",
    "print(\"Dimension del conjunto de datos:\", dimension, \"\\n\")\n",
    "\n",
    "#Filas\n",
    "print(f'Cantidad de filas: {df.shape[0]}\\n')\n",
    "\n",
    "#Columnas\n",
    "print(f'Cantidad de columnas: {df.shape[1]} \\n')\n",
    "\n",
    "# Columnas\n",
    "columnas = df.columns\n",
    "print(\"Columnas:\", columnas, \"\\n\")\n",
    "\n",
    "# Tipos de datos de las columnas\n",
    "tipos = df.dtypes\n",
    "print(\"Tipos de datos:\", tipos, \"\\n\")\n",
    "\n",
    "#Info de datos nulos\n",
    "nulos = df.info()\n",
    "print(\"Valores Nulos:\", nulos, \"\\n\")"
   ]
  },
  {
   "cell_type": "markdown",
   "metadata": {
    "id": "BSXkNz7WVLI4"
   },
   "source": [
    "### Transformación de datos\n",
    "\n",
    "Para poder comenzar con el análisis, fue necesario realizar transformaciones de algunos datos, como ser:\n",
    "\n",
    "1. Conversión de fechas en formatos adecuados\n",
    "2. Codificación de variables categóricas (GRUPO EDAD)\n",
    "3. Eliminación de columnas irrelevantes\n",
    "4. Adecuación de valores faltantes\n",
    "5. Añadir nuevas columnas para los cálculos de *tiempo de demora* en que los pacientes obtienen sus resultados."
   ]
  },
  {
   "cell_type": "code",
   "execution_count": null,
   "metadata": {
    "colab": {
     "base_uri": "https://localhost:8080/"
    },
    "id": "KRfuoxiUVPap",
    "outputId": "a7b36351-6fdc-44c1-9349-a649581177bb"
   },
   "outputs": [],
   "source": [
    "# Convertir la columna fechas a tipo de dato datetime y para manejar fechas fuera de rango es utilizar el argumento errors='coerce' al llamar a pd.to_datetime().\n",
    "df['FECHA_DIAG'] = pd.to_datetime(df['FECHA_DIAG'], errors='coerce')\n",
    "df['FECHA_PAPEL'] = pd.to_datetime(df['FECHA_PAPEL'], errors='coerce')\n",
    "df['FECHA_NACIMIENTO'] = pd.to_datetime(df['FECHA_NACIMIENTO'], errors='coerce')\n",
    "df['FECHA_CONSULTA'] = pd.to_datetime(df['FECHA_CONSULTA'], errors='coerce')\n",
    "df['FECHA_INICIO_SINTOMA'] = pd.to_datetime(df['FECHA_INICIO_SINTOMA'], errors='coerce')\n",
    "df['FECHA_INTERNACION'] = pd.to_datetime(df['FECHA_INTERNACION'], errors='coerce')\n",
    "df['FIS'] = pd.to_datetime(df['FIS'], errors='coerce')\n",
    "df['FTM'] = pd.to_datetime(df['FTM'], errors='coerce')\n",
    "df['FECHA_ESTUDIO'] = pd.to_datetime(df['FECHA_ESTUDIO'], errors='coerce')\n",
    "df['FECHA_RECEPCION'] = pd.to_datetime(df['FECHA_RECEPCION'], errors='coerce')\n",
    "df['FECHA_DIAG'] = pd.to_datetime(df['FECHA_DIAG'], errors='coerce')\n",
    "df['FECHA_INICIO_TRAT'] = pd.to_datetime(df['FECHA_INICIO_TRAT'], errors='coerce')\n",
    "df['FECHA_FIN_TRAT'] = pd.to_datetime(df['FECHA_FIN_TRAT'], errors='coerce')"
   ]
  },
  {
   "cell_type": "code",
   "execution_count": null,
   "metadata": {
    "id": "cr68eOgIsTO_"
   },
   "outputs": [],
   "source": [
    "# Reemplazar los valores faltantes en 'FECHA_DIAG' con los de 'FTM'\n",
    "df['FECHA_DIAG'].fillna(df['FTM'], inplace=True)\n",
    "\n",
    "# Reemplazar los valores faltantes en 'FECHA_DIAG' con los de 'FECHA_ESTUDIO'\n",
    "df['FECHA_DIAG'].fillna(df['FECHA_ESTUDIO'], inplace=True)\n",
    "\n",
    "# Reemplazar los valores faltantes en 'FECHA_DIAG' con los de 'FECHA_INICIO_TRAT'\n",
    "df['FECHA_DIAG'].fillna(df['FECHA_INICIO_TRAT'], inplace=True)\n",
    "\n",
    "# Ahora 'FECHA_DIAG' contiene los valores de 'FTM', 'FECHA_ESTUDIO' o 'FECHA_INICIO_TRAT' en ese orden de prioridad\n",
    "\n",
    "# Reemplazar los valores faltantes en 'FECHA_PAPEL' (Considerada como fecha de notificacion) con los de 'FECHA_APERTURA' (Fecha en que se cargo el caso al SISA)\n",
    "df['FECHA_PAPEL'].fillna(df['FECHA_APERTURA'], inplace=True)"
   ]
  },
  {
   "cell_type": "markdown",
   "metadata": {
    "id": "qQ402w3bb3xP"
   },
   "source": [
    "Al tener en cuenta que la eliminación de valores faltantes puede generar pérdida de información, por la posible existencia de datos relevantes en las filas eliminadas, se determinó que la opción más pertinente sería la de reemplazar esos valores con una estimación basada en los datos existentes. Por ejemplo, usar la media, la mediana o algún otro método de imputación."
   ]
  },
  {
   "cell_type": "code",
   "execution_count": null,
   "metadata": {
    "id": "FUMDcgAIb6Tn"
   },
   "outputs": [],
   "source": [
    "# Imputar los valores faltantes en 'EDAD_DIAGNOSTICO' con la mediana\n",
    "median_age = df['EDAD_DIAGNOSTICO'].median()\n",
    "df['EDAD_DIAGNOSTICO'].fillna(median_age, inplace=True)"
   ]
  },
  {
   "cell_type": "markdown",
   "metadata": {},
   "source": [
    "Posteriormente se realizó un ordenamiento, en forma ascendente del dataframe, así como la eliminación de datos duplicados."
   ]
  },
  {
   "cell_type": "code",
   "execution_count": null,
   "metadata": {
    "id": "q3LYmtN7u2Vz"
   },
   "outputs": [],
   "source": [
    "# Ordenar el DataFrame por 'FECHA_PAPEL' de manera ascendente\n",
    "df.sort_values(by='FECHA_PAPEL', ascending=True, inplace=True)\n",
    "\n",
    "# Eliminar duplicados basados en todas las columnas excepto 'FECHA_PAPEL' ya que el caso pudo enfermarse mas de una vez\n",
    "df.drop_duplicates(subset=df.columns.difference(['FECHA_PAPEL']), keep='first', inplace=True)\n"
   ]
  },
  {
   "cell_type": "markdown",
   "metadata": {
    "id": "o1BmYkIZuHcd"
   },
   "source": [
    "### Selección de datos\n",
    "\n",
    "Para limitar la base de datos y realizar un análisis dentro del contexto de la pandemia Covid-19, se tuvo en cuenta las fechas limitadas por el inicio del Aislamiento Social Preventivo y Obligatorio (ASPO) dictado en el Decreto N° 297/2020, DECNU-2020-297-APN-PTE - Disposiciones, publicado en https://www.boletinoficial.gob.ar/detalleAviso/primera/227042/20200320. Allí el artículo segundo determinaba \"Durante la vigencia del 'aislamiento social, preventivo y obligatorio', las personas deberán permanecer en sus residencias habituales o en la residencia en que se encuentren a las 00:00 horas del día 20 de marzo de 2020, momento de inicio de la medida dispuesta\".\n",
    "\n",
    "Por ello, se creo una nueva variable clasificatoria de casos, etiquetados todos con **Antes**  y **Después** de la pandemia; el objetivo principal de esta clasificación fue la de comparar grupos etáreos y regionales, respecto a las caracteristicas de los casos así como de los tiempos de demora (diagnóstico, tratamiento)."
   ]
  },
  {
   "cell_type": "code",
   "execution_count": null,
   "metadata": {
    "id": "etd4c7yft5Ob"
   },
   "outputs": [],
   "source": [
    "# Fecha de inicio de la pandemia\n",
    "fecha_inicio_pandemia = pd.to_datetime('2020-03-20')\n",
    "\n",
    "# Nueva columna llamada 'CLASIFICACION_PANDEMIA'\n",
    "# con valores 'Antes' para fechas anteriores a la pandemia y 'Despues' para fechas posteriores o durante la pandemia\n",
    "df['CLASIFICACION_PANDEMIA'] = df['FECHA_PAPEL'].apply(lambda x: 'Antes' if x < fecha_inicio_pandemia else 'Despues')\n"
   ]
  },
  {
   "cell_type": "markdown",
   "metadata": {
    "id": "r_Oqbm0yyd0i"
   },
   "source": [
    "### Limpieza del dataframe\n",
    "Se verificó que el dataframe posee duplicados ya que cada durante la carga de datos se consideran como tomas individuales de muestra las enviadas para confirmar el evento, las de control del tratamiento, así como si el paciente tiene más de una comorbilidad. Por ello, se decidió eliminar duplicados y retener unicamente casos por Documento Nacional de Identidad (DNI) y por fecha de notificación del caso."
   ]
  },
  {
   "cell_type": "code",
   "execution_count": null,
   "metadata": {
    "id": "KcRLs_xo0rF9"
   },
   "outputs": [],
   "source": [
    "#Eliminamos los duplicados segun numero de DNI y fecha en la que se notifico el caso\n",
    "base= df.drop_duplicates(subset=['NRO_DOC', 'FECHA_PAPEL'])"
   ]
  },
  {
   "cell_type": "markdown",
   "metadata": {},
   "source": [
    "Se compueba la diferencia de dimensión respecto al dataframe inicial."
   ]
  },
  {
   "cell_type": "code",
   "execution_count": null,
   "metadata": {
    "colab": {
     "base_uri": "https://localhost:8080/"
    },
    "id": "__Z2-xdy08ZU",
    "outputId": "4464541e-635c-4e49-92f3-451e6d49c730"
   },
   "outputs": [],
   "source": [
    "dimension = base.shape\n",
    "print(\"Dimension del conjunto de datos:\", dimension, \"\\n\")"
   ]
  },
  {
   "cell_type": "markdown",
   "metadata": {},
   "source": [
    "### Acotación de datos\n",
    "Se procede a delimitar la base de datos con las fechas mencionadas relacionadas a la pandemia de COVID-19."
   ]
  },
  {
   "cell_type": "code",
   "execution_count": null,
   "metadata": {
    "colab": {
     "base_uri": "https://localhost:8080/"
    },
    "id": "lB4cqW5y25mY",
    "outputId": "cd0ff9de-7622-4ac7-d012-c474951037f9"
   },
   "outputs": [],
   "source": [
    "# Extrae el año de notificación\n",
    "base['ANIO_NOTIFICACION'] = pd.to_datetime(base['FECHA_PAPEL']).dt.year\n",
    "\n",
    "# Nos quedamos solo con los años 2019-2020-2021\n",
    "base = base.query('ANIO_NOTIFICACION in [2019, 2020, 2021]')"
   ]
  },
  {
   "cell_type": "markdown",
   "metadata": {},
   "source": [
    "### Agrupamiento de datos\n",
    "Para realizar visualizaciones más pertinentes se generó una nueva columna con *grupo de edad* que permite catalogar las edades, para ello se crearon rangos etáreos, de 0 a 18 años, de 19 a 30 años, de 31 a 45 años, de 46 a 60 años, y mayores de 61. "
   ]
  },
  {
   "cell_type": "code",
   "execution_count": null,
   "metadata": {
    "colab": {
     "base_uri": "https://localhost:8080/"
    },
    "id": "XX2TNeRQ3F-_",
    "outputId": "d4efd330-a4b9-4a83-93d4-1fdc4943bf21"
   },
   "outputs": [],
   "source": [
    "# límites de los rangos de edad\n",
    "rangos_edad = [0, 18, 30, 45, 60, float('inf')]\n",
    "\n",
    "# etiquetas para los grupos de edad\n",
    "etiquetas_edad = ['0-18', '19-30', '31-45', '46-60', '61+']\n",
    "\n",
    "# CreaR columna 'GRUPO_EDAD' utilizando la función cut para agrupar las edades\n",
    "base['GRUPO_EDAD'] = pd.cut(df['EDAD_DIAGNOSTICO'], bins=rangos_edad, labels=etiquetas_edad)"
   ]
  },
  {
   "cell_type": "code",
   "execution_count": null,
   "metadata": {
    "colab": {
     "base_uri": "https://localhost:8080/",
     "height": 430
    },
    "id": "5j7iqERaplDJ",
    "outputId": "0c6a4da4-ff48-4716-a301-4b0b188d7608"
   },
   "outputs": [],
   "source": [
    "base.head(10)"
   ]
  },
  {
   "cell_type": "markdown",
   "metadata": {},
   "source": [
    "### Ajuste de las variables tiempo de demora y tiempo de demora del tratamiento \n",
    "El tiempo de demora se calcula mediante la diferencia entre las fechas de inicio de síntomas y fecha de diagnóstico, mientras que para tiempo de demora del tratamiento se cuantifica entre fecha de inicio del tratamiento y la finalización del mismo.\n",
    "A continuación, para no tener valores negativos, que pueden deberse a errores de cálculo o en la carga de datos, se determina la media de los valores positivos, y con este se sustituyen a los negativos."
   ]
  },
  {
   "cell_type": "code",
   "execution_count": null,
   "metadata": {
    "colab": {
     "base_uri": "https://localhost:8080/"
    },
    "id": "Cb7IwqaH3qfi",
    "outputId": "b71cf3e3-ecf4-443e-ab75-df46d9ab102d"
   },
   "outputs": [],
   "source": [
    "# Calcula el tiempo de demora en días\n",
    "# primero diferencia entre 'FECHA_DIAG' y 'FECHA_INICIO_SINTOMA'\n",
    "base['TIEMPO_DEMORA'] = (base['FECHA_DIAG'] - base['FECHA_INICIO_SINTOMA']).dt.days\n",
    "base['TIEMPO_DEMORA_TTO'] = (base['FECHA_FIN_TRAT'] - base['FECHA_INICIO_TRAT']).dt.days\n",
    "\n",
    "# ahora se calcula la media de los valores positivos\n",
    "media_tiempo_demora = base[base['TIEMPO_DEMORA'] >= 0]['TIEMPO_DEMORA'].mean()\n",
    "media_tiempo_demora_tto = base[base['TIEMPO_DEMORA_TTO'] >= 0]['TIEMPO_DEMORA_TTO'].mean()\n",
    "# los valores negativos se reemplazan por la media\n",
    "base['TIEMPO_DEMORA'] = base['TIEMPO_DEMORA'].apply(lambda x: x if x >= 0 else media_tiempo_demora)\n",
    "base['TIEMPO_DEMORA_TTO'] = base['TIEMPO_DEMORA_TTO'].apply(lambda x: x if x >= 0 else media_tiempo_demora_tto)"
   ]
  },
  {
   "cell_type": "code",
   "execution_count": null,
   "metadata": {
    "colab": {
     "base_uri": "https://localhost:8080/"
    },
    "id": "Wp9LIPvvplDK",
    "outputId": "e80eb9a2-1696-4d41-f994-49f0530416e4"
   },
   "outputs": [],
   "source": [
    "print(base['TIEMPO_DEMORA'].head())"
   ]
  },
  {
   "cell_type": "code",
   "execution_count": null,
   "metadata": {
    "colab": {
     "base_uri": "https://localhost:8080/"
    },
    "id": "P4Y22OV__ElW",
    "outputId": "d3a7bba8-fa79-4d6f-e63f-b0dbe9ba7b5c"
   },
   "outputs": [],
   "source": [
    "print(base['TIEMPO_DEMORA_TTO'].head())"
   ]
  },
  {
   "cell_type": "markdown",
   "metadata": {
    "id": "kXx55kHHVS3A"
   },
   "source": [
    "\n",
    "## Análisis descriptivo\n",
    "\n",
    "En este análisis descriptivo se realizaron:\n",
    "\n",
    "- Resumen estadístico de variables numéricas (edad, tiempo de diagnóstico, etc.).\n",
    "- Distribuciones de variables categóricas (sexo, país de residencia, localidad, clasificacion del caso, resultado de tratamiento etc.).\n",
    "- Gráficos de dispersión para identificar tendencias.\n",
    "- Histogramas para visualizar la distribución de edades de diagnóstico antes y después de la pandemia.\n",
    "- Box plots para identificar valores atípicos.\n",
    "- Análisis de correlación para determinar relaciones entre variables."
   ]
  },
  {
   "cell_type": "markdown",
   "metadata": {
    "id": "2fxEyMmN43FY"
   },
   "source": [
    "#### Descripción de:\n",
    "1. Variables tipo objeto\n",
    "2. Cantidad de filas que poseen conteo (count)\n",
    "3. Cantidad de valores únicos dentro de cada variable (unique)\n",
    "4. Categoría más frecuente, cantidad de ocurrencias (top y freq)"
   ]
  },
  {
   "cell_type": "code",
   "execution_count": null,
   "metadata": {
    "colab": {
     "base_uri": "https://localhost:8080/",
     "height": 242
    },
    "id": "DPo9OmS7VTnZ",
    "outputId": "97449598-bc31-44b6-f482-a9b72b085744"
   },
   "outputs": [],
   "source": [
    "base.describe(include=['O'])\n"
   ]
  },
  {
   "cell_type": "code",
   "execution_count": null,
   "metadata": {
    "colab": {
     "base_uri": "https://localhost:8080/"
    },
    "id": "kHIygCnH5Jpk",
    "outputId": "2c150f1f-2a0b-4656-e1fd-88e527e9af7d"
   },
   "outputs": [],
   "source": [
    "# estadísticas descriptivas\n",
    "descripcion = base[['TIEMPO_DEMORA', 'EDAD_DIAGNOSTICO', 'TIEMPO_DEMORA_TTO']].describe()\n",
    "\n",
    "print(descripcion)"
   ]
  },
  {
   "cell_type": "markdown",
   "metadata": {
    "id": "Ps_D1Cat57yu"
   },
   "source": [
    "## ESTO SE ELIMINA NO??"
   ]
  },
  {
   "cell_type": "code",
   "execution_count": null,
   "metadata": {
    "colab": {
     "base_uri": "https://localhost:8080/"
    },
    "id": "xfJKVV1f6BEL",
    "outputId": "ec525bf5-3ce8-4b69-8b73-c5c073ae2d69"
   },
   "outputs": [],
   "source": [
    "# Contar cuántos valores negativos hay en 'TIEMPO_DEMORA'\n",
    "valores_negativos_tiempo = (base['TIEMPO_DEMORA'] < 0).sum()\n",
    "\n",
    "# Contar cuántos valores negativos hay en 'EDAD'\n",
    "valores_negativos_edad = (base['EDAD_DIAGNOSTICO'] < 0).sum()\n",
    "\n",
    "# Contar cuántos valores mayores de 90 años hay en 'EDAD'\n",
    "valores_negativos_edad_90 = (base['EDAD_DIAGNOSTICO'] > 90).sum()\n",
    "\n",
    "# Contar cuántos valores extremos tiempo demora diagnostico 365 días\n",
    "valores_demora_emayor_365 = (base['TIEMPO_DEMORA'] > 365).sum()\n",
    "\n",
    "# Contar cuántos valores extremos tiempo demora diagnostico 365 días\n",
    "valores_demora_tratamiento_365 = (base['TIEMPO_DEMORA_TTO'] > 365).sum()\n",
    "\n",
    "print(f'Valores negativos en TIEMPO_DEMORA: {valores_negativos_tiempo}')\n",
    "print(f'Valores negativos en EDAD: {valores_negativos_edad}')\n",
    "print(f'Valores negativos en EDAD mayor a 90: {valores_negativos_edad_90}')\n",
    "print(f'Valores negativos en demora diagnostico mayor 365: {valores_demora_emayor_365}')\n",
    "print(f'Valores negativos demora completar tto mayor a 365: {valores_demora_tratamiento_365}')"
   ]
  },
  {
   "cell_type": "markdown",
   "metadata": {
    "id": "9TOMpnCIMhzp"
   },
   "source": [
    "Eliminamos valores atipicos y negativos"
   ]
  },
  {
   "cell_type": "code",
   "execution_count": null,
   "metadata": {
    "id": "zFfgDkbUMd4J"
   },
   "outputs": [],
   "source": [
    "base = base.drop(base[base['EDAD_DIAGNOSTICO'] > 90].index)\n",
    "base = base.drop(base[base['EDAD_DIAGNOSTICO'] < 0].index)\n",
    "base = base.drop(base[base['TIEMPO_DEMORA'] > 365].index)\n",
    "base = base.drop(base[base['TIEMPO_DEMORA_TTO'] > 365].index)"
   ]
  },
  {
   "cell_type": "code",
   "execution_count": null,
   "metadata": {
    "colab": {
     "base_uri": "https://localhost:8080/"
    },
    "id": "a2F0vNRfUWbc",
    "outputId": "6ed867f1-9793-48bc-a36c-8df4d14e8b2e"
   },
   "outputs": [],
   "source": [
    "dimension = base.shape\n",
    "print(\"Dimension del conjunto de datos:\", dimension, \"\\n\")\n"
   ]
  },
  {
   "cell_type": "markdown",
   "metadata": {
    "id": "t5bHvL1rZlgH"
   },
   "source": [
    "Volvemos a ralizar un analisis descriptivo de las variables cuantitativas sin valores atipicos y negativos"
   ]
  },
  {
   "cell_type": "code",
   "execution_count": null,
   "metadata": {
    "colab": {
     "base_uri": "https://localhost:8080/"
    },
    "id": "DHuM-OZhUadU",
    "outputId": "06adbbfe-0c9e-4a88-98ab-84e97c0f931c"
   },
   "outputs": [],
   "source": [
    "# estadísticas descriptivas\n",
    "descripcion = base[['TIEMPO_DEMORA', 'EDAD_DIAGNOSTICO', 'TIEMPO_DEMORA_TTO']].describe()\n",
    "\n",
    "print(descripcion)"
   ]
  },
  {
   "cell_type": "code",
   "execution_count": null,
   "metadata": {
    "colab": {
     "base_uri": "https://localhost:8080/",
     "height": 99
    },
    "id": "5UNOFBVlLXJx",
    "outputId": "78372c6b-36df-4825-86a0-0b4d1ec51482"
   },
   "outputs": [],
   "source": [
    "# esto para verificar que los cambios en edad se aplicaron correctamente\n",
    "valores_negativos_edad = base[base['EDAD_DIAGNOSTICO'] > 91]\n",
    "valores_negativos_edad"
   ]
  },
  {
   "cell_type": "code",
   "execution_count": null,
   "metadata": {
    "colab": {
     "base_uri": "https://localhost:8080/"
    },
    "id": "-HYWFl31plDM",
    "outputId": "6c3fdd6c-9a53-408b-e9fa-5a892d907128"
   },
   "outputs": [],
   "source": [
    "# Compruebo si se realizo bien el cambio\n",
    "valores_negativos = base[base['EDAD_DIAGNOSTICO'] < 0]\n",
    "\n",
    "# Hago un if para que se actualizo bien\n",
    "if valores_negativos.empty:\n",
    "    print(\"Todos los valores negativos en 'EDAD_DIAGNOSTICO' se han actualizado correctamente.\")\n",
    "else:\n",
    "    print(\"Aún quedan valores negativos en 'EDAD_DIAGNOSTICO'. Revisa la actualización.\")\n"
   ]
  },
  {
   "cell_type": "code",
   "execution_count": null,
   "metadata": {
    "colab": {
     "base_uri": "https://localhost:8080/",
     "height": 430
    },
    "id": "vj-AfPTSzzBO",
    "outputId": "cf8fa01d-dead-47fe-d766-f2a589e39f4d"
   },
   "outputs": [],
   "source": [
    "base.head(10)"
   ]
  },
  {
   "cell_type": "markdown",
   "metadata": {
    "id": "yoJ2RLqDMyqS"
   },
   "source": [
    "Para poder realizar trabajo con GeoJson se realizó cambio dentro de provincias de residencia a la Ciudad Autónoma de BUenos Aires por CABA"
   ]
  },
  {
   "cell_type": "code",
   "execution_count": null,
   "metadata": {
    "id": "HmUejf-gHRVj"
   },
   "outputs": [],
   "source": [
    "base['PROVINCIA_RESIDENCIA'] = base['PROVINCIA_RESIDENCIA'].replace('CABA', 'Ciudad Autónoma de Buenos Aires')"
   ]
  },
  {
   "cell_type": "markdown",
   "metadata": {
    "id": "8L5KAsFn7CTd"
   },
   "source": [
    "# Hacemos una serie de graficos y tablas para interpretar los datos\n",
    "\n",
    "> Bloque con sangría\n",
    "\n"
   ]
  },
  {
   "cell_type": "code",
   "execution_count": null,
   "metadata": {
    "colab": {
     "base_uri": "https://localhost:8080/",
     "height": 589
    },
    "id": "Wf62DFOsMyqT",
    "outputId": "f994a72d-67bc-4cd3-cbe4-4fd4955fe7cf"
   },
   "outputs": [],
   "source": [
    "cant_grupo_edad = base['GRUPO_EDAD'].value_counts().sort_index()\n",
    "\n",
    "# Crear el histograma de conteo\n",
    "plt.figure(figsize=(8, 6))\n",
    "bar = plt.bar(cant_grupo_edad.index, cant_grupo_edad.values, edgecolor='black', alpha=0.5, color='aquamarine')\n",
    "plt.title('Histograma de GRUPO_EDAD')\n",
    "plt.xlabel('Categorías de Edad')\n",
    "plt.ylabel('Frecuencia')\n",
    "plt.xticks(rotation=45)\n",
    "plt.bar_label(bar, fmt='%d', label_type='edge', fontsize=10, color='black')\n",
    "plt.show()\n"
   ]
  },
  {
   "cell_type": "code",
   "execution_count": null,
   "metadata": {
    "colab": {
     "base_uri": "https://localhost:8080/",
     "height": 472
    },
    "id": "iVGCPSklMyqU",
    "outputId": "37e14cfc-8b77-499c-9d54-e852d4830f18"
   },
   "outputs": [],
   "source": [
    "# Asegúrate de que los valores en la columna 'EDAD_DIAGNOSTICO' sean números\n",
    "base['EDAD_DIAGNOSTICO'] = pd.to_numeric(base['EDAD_DIAGNOSTICO'], errors='coerce')\n",
    "\n",
    "# Crear subconjuntos de datos para cada categoría\n",
    "edad_0_18 = base[(base['EDAD_DIAGNOSTICO'] >= 0) & (base['EDAD_DIAGNOSTICO'] <= 18)]\n",
    "edad_19_30 = base[(base['EDAD_DIAGNOSTICO'] >= 19) & (base['EDAD_DIAGNOSTICO'] <= 30)]\n",
    "edad_31_45 = base[(base['EDAD_DIAGNOSTICO'] >= 31) & (base['EDAD_DIAGNOSTICO'] <= 45)]\n",
    "edad_46_60 = base[(base['EDAD_DIAGNOSTICO'] >= 46) & (base['EDAD_DIAGNOSTICO'] <= 60)]\n",
    "edad_61 = base[(base['EDAD_DIAGNOSTICO'] >= 61)]\n",
    "\n",
    "# Calcular la media, moda y mediana de cada categoría\n",
    "media_edad_0_18 = edad_0_18['EDAD_DIAGNOSTICO'].mean()\n",
    "moda_edad_0_18 = edad_0_18['EDAD_DIAGNOSTICO'].mode().values[0]\n",
    "mediana_edad_0_18 = edad_0_18['EDAD_DIAGNOSTICO'].median()\n",
    "\n",
    "media_edad_19_30 = edad_19_30['EDAD_DIAGNOSTICO'].mean()\n",
    "moda_edad_19_30 = edad_19_30['EDAD_DIAGNOSTICO'].mode().values[0]\n",
    "mediana_edad_19_30 = edad_19_30['EDAD_DIAGNOSTICO'].median()\n",
    "\n",
    "media_edad_31_45 = edad_31_45['EDAD_DIAGNOSTICO'].mean()\n",
    "moda_edad_31_45 = edad_31_45['EDAD_DIAGNOSTICO'].mode().values[0]\n",
    "mediana_edad_31_45 = edad_31_45['EDAD_DIAGNOSTICO'].median()\n",
    "\n",
    "media_edad_46_60 = edad_46_60['EDAD_DIAGNOSTICO'].mean()\n",
    "moda_edad_46_60 = edad_46_60['EDAD_DIAGNOSTICO'].mode().values[0]\n",
    "mediana_edad_46_60 = edad_46_60['EDAD_DIAGNOSTICO'].median()\n",
    "\n",
    "media_edad_61 = edad_61['EDAD_DIAGNOSTICO'].mean()\n",
    "moda_edad_61 = edad_61['EDAD_DIAGNOSTICO'].mode().values[0]\n",
    "mediana_edad_61 = edad_61['EDAD_DIAGNOSTICO'].median()\n",
    "\n",
    "# Crear el histograma por cada categoría\n",
    "plt.hist(edad_0_18['EDAD_DIAGNOSTICO'], bins=20, label='0-18', alpha=0.9)\n",
    "plt.hist(edad_19_30['EDAD_DIAGNOSTICO'], bins=20, label='19-30', alpha=0.9)\n",
    "plt.hist(edad_31_45['EDAD_DIAGNOSTICO'], bins=20, label='31-45', alpha=0.9)\n",
    "plt.hist(edad_46_60['EDAD_DIAGNOSTICO'], bins=20, label='46-60', alpha=0.9)\n",
    "plt.hist(edad_61['EDAD_DIAGNOSTICO'], bins=20, label='61+', alpha=0.9)\n",
    "plt.legend()\n",
    "\n",
    "# Agregar líneas verticales para la media, moda y mediana\n",
    "plt.axvline(media_edad_0_18, color='r', linestyle='dashed', linewidth=0.9, label='Media')\n",
    "plt.axvline(moda_edad_0_18, color='g', linestyle='dashed', linewidth=0.9, label='Moda')\n",
    "plt.axvline(mediana_edad_0_18, color='b', linestyle='dashed', linewidth=0.9, label='Mediana')\n",
    "\n",
    "plt.axvline(media_edad_19_30, color='r', linestyle='dashed', linewidth=0.5, label='Media 19-30')\n",
    "plt.axvline(moda_edad_19_30, color='g', linestyle='dashed', linewidth=0.5, label='Moda 19-30')\n",
    "plt.axvline(mediana_edad_19_30, color='b', linestyle='dashed', linewidth=0.5, label='Mediana 19-30')\n",
    "\n",
    "plt.axvline(media_edad_31_45, color='r', linestyle='dashed', linewidth=0.5, label='Media 31-45')\n",
    "plt.axvline(moda_edad_31_45, color='g', linestyle='dashed', linewidth=0.5, label='Moda 31-45')\n",
    "plt.axvline(mediana_edad_31_45, color='b', linestyle='dashed', linewidth=0.5, label='Mediana 31-45')\n",
    "\n",
    "plt.axvline(media_edad_46_60, color='r', linestyle='dashed', linewidth=0.5, label='Media 46-60')\n",
    "plt.axvline(moda_edad_46_60, color='g', linestyle='dashed', linewidth=0.5, label='Moda 46-60')\n",
    "plt.axvline(mediana_edad_46_60, color='b', linestyle='dashed', linewidth=0.5, label='Mediana 46-60')\n",
    "\n",
    "plt.axvline(media_edad_61, color='r', linestyle='dashed', linewidth=0.5, label='Media 61+')\n",
    "plt.axvline(moda_edad_61, color='g', linestyle='dashed', linewidth=0.5, label='Moda 61+')\n",
    "plt.axvline(mediana_edad_61, color='b', linestyle='dashed', linewidth=0.5, label='Mediana 61+')\n",
    "\n",
    "# Configurar etiquetas y título del gráfico\n",
    "plt.xlabel('Edad')\n",
    "plt.ylabel('Frecuencia')\n",
    "plt.title('Histograma de Edades por Grupos')\n",
    "plt.show()"
   ]
  },
  {
   "cell_type": "markdown",
   "metadata": {
    "id": "4qVXg7eLd-C4"
   },
   "source": [
    "### Se podría decir que tiene una distribución asimétrica con cola a la derecha."
   ]
  },
  {
   "cell_type": "code",
   "execution_count": null,
   "metadata": {
    "colab": {
     "base_uri": "https://localhost:8080/",
     "height": 472
    },
    "id": "Mb-Ge8WrbgRV",
    "outputId": "b6a284eb-1b3f-45cf-ff24-54818bbe0c5c"
   },
   "outputs": [],
   "source": [
    "\n",
    "# Asegurarse que los valores en la columna 'EDAD_DIAGNOSTICO' sean números\n",
    "base['EDAD_DIAGNOSTICO'] = pd.to_numeric(base['EDAD_DIAGNOSTICO'], errors='coerce')\n",
    "\n",
    "# Dividir los datos en antes y después de la clasificación de la pandemia\n",
    "antes_pandemia = base[base['CLASIFICACION_PANDEMIA'] == 'Antes']\n",
    "despues_pandemia = base[base['CLASIFICACION_PANDEMIA'] == 'Despues']\n",
    "\n",
    "# Crear los histogramas para cada conjunto\n",
    "plt.hist(antes_pandemia['EDAD_DIAGNOSTICO'], bins=20, label='Antes Pandemia', alpha=0.9)\n",
    "plt.hist(despues_pandemia['EDAD_DIAGNOSTICO'], bins=20, label='Después Pandemia', alpha=0.9)\n",
    "\n",
    "# Agregar líneas verticales para la media, moda y mediana de cada conjunto si tienen datos válidos\n",
    "if not antes_pandemia.empty:\n",
    "    plt.axvline(antes_pandemia['EDAD_DIAGNOSTICO'].mean(), color='r', linestyle='dashed', linewidth=0.9, label='Media Antes Pandemia')\n",
    "    moda_antes = antes_pandemia['EDAD_DIAGNOSTICO'].mode()\n",
    "    if not moda_antes.empty:\n",
    "        plt.axvline(moda_antes.values[0], color='g', linestyle='dashed', linewidth=0.9, label='Moda Antes Pandemia')\n",
    "    plt.axvline(antes_pandemia['EDAD_DIAGNOSTICO'].median(), color='b', linestyle='dashed', linewidth=0.9, label='Mediana Antes Pandemia')\n",
    "\n",
    "if not despues_pandemia.empty:\n",
    "    plt.axvline(despues_pandemia['EDAD_DIAGNOSTICO'].mean(), color='r', linestyle='dashed', linewidth=0.5, label='Media Después Pandemia')\n",
    "    moda_despues = despues_pandemia['EDAD_DIAGNOSTICO'].mode()\n",
    "    if not moda_despues.empty:\n",
    "        plt.axvline(moda_despues.values[0], color='g', linestyle='dashed', linewidth=0.5, label='Moda Después Pandemia')\n",
    "    plt.axvline(despues_pandemia['EDAD_DIAGNOSTICO'].median(), color='b', linestyle='dashed', linewidth=0.5, label='Mediana Después Pandemia')\n",
    "\n",
    "# Etiquetas y título del gráfico\n",
    "plt.xlabel('Edad')\n",
    "plt.ylabel('Frecuencia')\n",
    "plt.title('Histograma de Edades Comparativo Antes y Después de la Pandemia')\n",
    "plt.legend()\n",
    "plt.show()\n",
    "\n"
   ]
  },
  {
   "cell_type": "markdown",
   "metadata": {
    "id": "qDNrQusueQvG"
   },
   "source": [
    "La media es mayor a la mediana y la moda por lo que se espera una distribución asimétrica a la derecha y es lo que se observa en ambos grupos"
   ]
  },
  {
   "cell_type": "markdown",
   "metadata": {
    "id": "A8tMjRStgS_4"
   },
   "source": [
    "# Analisis de tiempo de demora en el diagnostico por grupo"
   ]
  },
  {
   "cell_type": "code",
   "execution_count": null,
   "metadata": {
    "colab": {
     "base_uri": "https://localhost:8080/",
     "height": 472
    },
    "id": "2UKNSkKGge7q",
    "outputId": "08fff972-6e30-4daa-aecc-535e2f772967"
   },
   "outputs": [],
   "source": [
    "# Asegurarse que los valores en la columna 'EDAD_DIAGNOSTICO' sean números\n",
    "base['TIEMPO_DEMORA'] = pd.to_numeric(base['TIEMPO_DEMORA'], errors='coerce')\n",
    "\n",
    "# Dividir los datos en antes y después de la clasificación de la pandemia\n",
    "antes_pandemia = base[base['CLASIFICACION_PANDEMIA'] == 'Antes']\n",
    "despues_pandemia = base[base['CLASIFICACION_PANDEMIA'] == 'Despues']\n",
    "\n",
    "# Crear los histogramas para cada conjunto\n",
    "plt.hist(antes_pandemia['TIEMPO_DEMORA'], bins=20, label='Antes Pandemia', alpha=0.9)\n",
    "plt.hist(despues_pandemia['TIEMPO_DEMORA'], bins=20, label='Después Pandemia', alpha=0.9)\n",
    "\n",
    "# Agregar líneas verticales para la media, moda y mediana de cada conjunto si tienen datos válidos\n",
    "if not antes_pandemia.empty:\n",
    "    plt.axvline(antes_pandemia['TIEMPO_DEMORA'].mean(), color='r', linestyle='dashed', linewidth=0.9, label='Media Antes Pandemia')\n",
    "    moda_antes = antes_pandemia['TIEMPO_DEMORA'].mode()\n",
    "    if not moda_antes.empty:\n",
    "        plt.axvline(moda_antes.values[0], color='g', linestyle='dashed', linewidth=0.9, label='Moda Antes Pandemia')\n",
    "    plt.axvline(antes_pandemia['TIEMPO_DEMORA'].median(), color='b', linestyle='dashed', linewidth=0.9, label='Mediana Antes Pandemia')\n",
    "\n",
    "if not despues_pandemia.empty:\n",
    "    plt.axvline(despues_pandemia['TIEMPO_DEMORA'].mean(), color='r', linestyle='dashed', linewidth=0.5, label='Media Después Pandemia')\n",
    "    moda_despues = despues_pandemia['TIEMPO_DEMORA'].mode()\n",
    "    if not moda_despues.empty:\n",
    "        plt.axvline(moda_despues.values[0], color='g', linestyle='dashed', linewidth=0.5, label='Moda Después Pandemia')\n",
    "    plt.axvline(despues_pandemia['TIEMPO_DEMORA'].median(), color='b', linestyle='dashed', linewidth=0.5, label='Mediana Después Pandemia')\n",
    "\n",
    "# Etiquetas y título del gráfico\n",
    "plt.xlabel('Yiempo de demora hasta el diagnostico')\n",
    "plt.ylabel('Frecuencia')\n",
    "plt.title('Histograma de Tiempo de demora hasta el dx Comparativo Antes y Después de la Pandemia')\n",
    "plt.legend()\n",
    "plt.show()\n"
   ]
  },
  {
   "cell_type": "markdown",
   "metadata": {
    "id": "cXGWZjR-hz2p"
   },
   "source": [
    "La media es menor a la mediana y la moda por lo que se espera una distribución asimétrica a la izquierda"
   ]
  },
  {
   "cell_type": "markdown",
   "metadata": {
    "id": "t7cJic19hbyC"
   },
   "source": [
    "## Tiempo demora tratamiento\n",
    "se podria seleccionar solo los curados y tratamiento completo, tambien puede ser fracaso. (El tiempo de tto es de 6 meses por lo general 180 dias) los que tienen tiempos menores pueden ser fallecidos, perdidas de seguimiento, transferidos.\n",
    "\n"
   ]
  },
  {
   "cell_type": "code",
   "execution_count": null,
   "metadata": {
    "colab": {
     "base_uri": "https://localhost:8080/",
     "height": 472
    },
    "id": "TqRObk90hQXs",
    "outputId": "5b24ddc4-ce94-448a-e594-328e52dd970d"
   },
   "outputs": [],
   "source": [
    "# Asegurarse que los valores en la columna 'EDAD_DIAGNOSTICO' sean números\n",
    "base['TIEMPO_DEMORA_TTO'] = pd.to_numeric(base['TIEMPO_DEMORA_TTO'], errors='coerce')\n",
    "\n",
    "# Dividir los datos en antes y después de la clasificación de la pandemia\n",
    "antes_pandemia = base[base['CLASIFICACION_PANDEMIA'] == 'Antes']\n",
    "despues_pandemia = base[base['CLASIFICACION_PANDEMIA'] == 'Despues']\n",
    "\n",
    "# Crear los histogramas para cada conjunto\n",
    "plt.hist(antes_pandemia['TIEMPO_DEMORA_TTO'], bins=20, label='Antes Pandemia', alpha=0.9)\n",
    "plt.hist(despues_pandemia['TIEMPO_DEMORA_TTO'], bins=20, label='Después Pandemia', alpha=0.9)\n",
    "\n",
    "# Agregar líneas verticales para la media, moda y mediana de cada conjunto si tienen datos válidos\n",
    "if not antes_pandemia.empty:\n",
    "    plt.axvline(antes_pandemia['TIEMPO_DEMORA_TTO'].mean(), color='r', linestyle='dashed', linewidth=0.9, label='Media Antes Pandemia')\n",
    "    moda_antes = antes_pandemia['TIEMPO_DEMORA_TTO'].mode()\n",
    "    if not moda_antes.empty:\n",
    "        plt.axvline(moda_antes.values[0], color='g', linestyle='dashed', linewidth=0.9, label='Moda Antes Pandemia')\n",
    "    plt.axvline(antes_pandemia['TIEMPO_DEMORA_TTO'].median(), color='b', linestyle='dashed', linewidth=0.9, label='Mediana Antes Pandemia')\n",
    "\n",
    "if not despues_pandemia.empty:\n",
    "    plt.axvline(despues_pandemia['TIEMPO_DEMORA_TTO'].mean(), color='r', linestyle='dashed', linewidth=0.5, label='Media Después Pandemia')\n",
    "    moda_despues = despues_pandemia['TIEMPO_DEMORA_TTO'].mode()\n",
    "    if not moda_despues.empty:\n",
    "        plt.axvline(moda_despues.values[0], color='g', linestyle='dashed', linewidth=0.5, label='Moda Después Pandemia')\n",
    "    plt.axvline(despues_pandemia['TIEMPO_DEMORA_TTO'].median(), color='b', linestyle='dashed', linewidth=0.5, label='Mediana Después Pandemia')\n",
    "\n",
    "# Etiquetas y título del gráfico\n",
    "plt.xlabel('Yiempo de demora del tratamiento')\n",
    "plt.ylabel('Frecuencia')\n",
    "plt.title('Histograma de Tiempo de demora tratamiento Comparativo Antes y Después de la Pandemia')\n",
    "plt.legend()\n",
    "plt.show()\n"
   ]
  },
  {
   "cell_type": "code",
   "execution_count": null,
   "metadata": {
    "colab": {
     "base_uri": "https://localhost:8080/",
     "height": 946
    },
    "id": "52gRZvPzMyqU",
    "outputId": "a79232cd-1e48-4a7c-8e2d-18d28ba64039"
   },
   "outputs": [],
   "source": [
    "table = pd.crosstab(base['GRUPO_EDAD'], [base['PROVINCIA_RESIDENCIA']])\n",
    "\n",
    "# Graficar el histograma de barras apiladas\n",
    "plt.figure(figsize=(12, 8))\n",
    "sns.heatmap(table, cmap='YlGn', annot=True, fmt='d', cbar=True, cbar_kws={'label': 'Frecuencia'})\n",
    "plt.title('Distribución de GRUPO_EDAD por PROVINCIA_RESIDENCIA')\n",
    "plt.xlabel('PROVINCIA_RESIDENCIA')\n",
    "plt.ylabel('GRUPO_EDAD')\n",
    "\n",
    "plt.show()\n"
   ]
  },
  {
   "cell_type": "code",
   "execution_count": null,
   "metadata": {
    "colab": {
     "base_uri": "https://localhost:8080/"
    },
    "id": "dGvarBhC7Bjd",
    "outputId": "69c00981-315f-4e59-ebcf-c780be9a64d6"
   },
   "outputs": [],
   "source": [
    "# Convierte la columna 'ANIO_NOTIFICACION' a formato datetime\n",
    "base['ANIO_NOTIFICACION'] = pd.to_datetime(base['ANIO_NOTIFICACION'], format='%Y')\n",
    "\n",
    "# Luego, puedes agrupar por año y momento de diagnóstico\n",
    "tabla_agrupada = base.groupby([base['ANIO_NOTIFICACION'].dt.year, 'CLASIFICACION_PANDEMIA']).size().unstack(fill_value=0)\n",
    "\n",
    "# Cambia los nombres de las columnas para mayor claridad\n",
    "tabla_agrupada.columns = ['Antes de la pandemia', 'Después de la pandemia']\n",
    "\n",
    "# Resetea el índice para tener una tabla con las columnas 'Año', 'Antes de la pandemia' y 'Después de la pandemia'\n",
    "tabla_agrupada = tabla_agrupada.reset_index()\n",
    "\n",
    "# Cambia el nombre de la columna del año\n",
    "tabla_agrupada = tabla_agrupada.rename(columns={'ANIO_NOTIFICACION': 'Año'})\n",
    "\n",
    "# Imprime la tabla agrupada\n",
    "print(tabla_agrupada)"
   ]
  },
  {
   "cell_type": "code",
   "execution_count": null,
   "metadata": {
    "colab": {
     "base_uri": "https://localhost:8080/",
     "height": 610
    },
    "id": "rQqJOIlo9R2m",
    "outputId": "dd30685b-4be0-46ac-a6bf-e4a432f334df"
   },
   "outputs": [],
   "source": [
    "# Agrupa los datos por 'SEXO' y 'CLASIFICACION_PANDEMIA', y cuenta el número de casos en cada grupo\n",
    "grupo_distribucion = base.groupby(['CLASIFICACION_PANDEMIA', 'SEXO']).size().unstack(fill_value=0)\n",
    "\n",
    "# Calcula el total de casos por sexo\n",
    "total_por_sexo = base.groupby('CLASIFICACION_PANDEMIA').size()\n",
    "\n",
    "# Crea un gráfico de barras apiladas\n",
    "ax = grupo_distribucion.plot(kind='bar', stacked=True, figsize=(10, 6))\n",
    "\n",
    "# Configura las etiquetas y el título del gráfico\n",
    "plt.xlabel('Clasificación de Pandemia')\n",
    "plt.ylabel('Número de Casos')\n",
    "plt.title('Distribución por Sexo y Clasificación de Pandemia')\n",
    "\n",
    "# Agrega una leyenda\n",
    "plt.legend(title='Sexo')\n",
    "\n",
    "# Muestra el total de casos por sexo en la parte superior de las barras\n",
    "for i, total in enumerate(total_por_sexo):\n",
    "    plt.text(i, total, f'Total: {total}', ha='center', va='bottom')\n",
    "\n",
    "# Muestra el gráfico\n",
    "plt.show()\n"
   ]
  },
  {
   "cell_type": "markdown",
   "metadata": {
    "id": "Pc-tVUCSja1w"
   },
   "source": [
    "Con el siguiente grafico se intenta mostrar la distribucion porcentual por grupo y se observa que practicamente no hay diferencia en la distribucion por sexo antes y despues de la pandemia"
   ]
  },
  {
   "cell_type": "code",
   "execution_count": null,
   "metadata": {
    "colab": {
     "base_uri": "https://localhost:8080/",
     "height": 610
    },
    "id": "9vAIxwBxiwAX",
    "outputId": "6a5feb28-dafe-40e6-f191-fd545ee65648"
   },
   "outputs": [],
   "source": [
    "\n",
    "# Agrupar los datos por 'SEXO' y 'CLASIFICACION_PANDEMIA', y contar el número de casos en cada grupo\n",
    "grupo_distribucion = base.groupby(['CLASIFICACION_PANDEMIA', 'SEXO']).size().unstack(fill_value=0)\n",
    "\n",
    "# Calcular el total de casos por clasificación de pandemia\n",
    "total_por_pandemia = base.groupby('CLASIFICACION_PANDEMIA').size()\n",
    "\n",
    "# Calcular la distribución porcentual en lugar del conteo\n",
    "distribucion_porcentual = grupo_distribucion.divide(total_por_pandemia, axis=0) * 100\n",
    "\n",
    "# Crear un gráfico de barras apiladas con distribución porcentual\n",
    "ax = distribucion_porcentual.plot(kind='bar', stacked=True, figsize=(10, 6))\n",
    "\n",
    "# Configurar las etiquetas y el título del gráfico\n",
    "plt.xlabel('Clasificación de Pandemia')\n",
    "plt.ylabel('Porcentaje de Casos')\n",
    "plt.title('Distribución Porcentual por Sexo y Clasificación de Pandemia')\n",
    "\n",
    "# Agrega etiquetas de datos en las barras\n",
    "for i, (idx, row) in enumerate(distribucion_porcentual.iterrows()):\n",
    "    prev_label = 0\n",
    "    for col in distribucion_porcentual.columns:\n",
    "        porcentaje = row[col]\n",
    "        ax.annotate(f'{porcentaje:.2f}%', xy=(i, prev_label + porcentaje / 2), ha='center', va='center')\n",
    "        prev_label += porcentaje\n",
    "\n",
    "# Agregar una leyenda\n",
    "plt.legend(title='Sexo')\n",
    "\n",
    "# Muestrar el gráfico\n",
    "plt.show()\n",
    "\n",
    "\n"
   ]
  },
  {
   "cell_type": "code",
   "execution_count": null,
   "metadata": {
    "colab": {
     "base_uri": "https://localhost:8080/",
     "height": 610
    },
    "id": "YKkIfE1O9vYS",
    "outputId": "19697a73-f5b2-41fc-df6e-d52d34e55e90"
   },
   "outputs": [],
   "source": [
    "\n",
    "# Agrupar los datos por 'GRUPO EDAD' y 'CLASIFICACION_PANDEMIA', y contar el número de casos en cada grupo\n",
    "grupo_distribucion = base.groupby(['CLASIFICACION_PANDEMIA', 'GRUPO_EDAD']).size().unstack(fill_value=0)\n",
    "\n",
    "# Calcular el total de casos por clasificación de pandemia\n",
    "total_por_pandemia = base.groupby('CLASIFICACION_PANDEMIA').size()\n",
    "\n",
    "# Calcular la distribución porcentual en lugar del conteo\n",
    "distribucion_porcentual = grupo_distribucion.divide(total_por_pandemia, axis=0) * 100\n",
    "\n",
    "# Crear un gráfico de barras apiladas con distribución porcentual\n",
    "ax = distribucion_porcentual.plot(kind='bar', stacked=True, figsize=(10, 6))\n",
    "\n",
    "# Configurar las etiquetas y el título del gráfico\n",
    "plt.xlabel('Clasificación de Pandemia')\n",
    "plt.ylabel('Porcentaje de Casos')\n",
    "plt.title('Distribución Porcentual por Grupo Edad y Clasificación de Pandemia')\n",
    "\n",
    "# Agrega etiquetas de datos en las barras\n",
    "for i, (idx, row) in enumerate(distribucion_porcentual.iterrows()):\n",
    "    prev_label = 0\n",
    "    for col in distribucion_porcentual.columns:\n",
    "        porcentaje = row[col]\n",
    "        ax.annotate(f'{porcentaje:.2f}%', xy=(i, prev_label + porcentaje / 2), ha='center', va='center')\n",
    "        prev_label += porcentaje\n",
    "\n",
    "# Agregar una leyenda\n",
    "plt.legend(title='Grupo edad')\n",
    "\n",
    "# Muestrar el gráfico\n",
    "plt.show()\n"
   ]
  },
  {
   "cell_type": "code",
   "execution_count": null,
   "metadata": {
    "colab": {
     "base_uri": "https://localhost:8080/",
     "height": 472
    },
    "id": "HH43ZmIH-h02",
    "outputId": "1969da3d-2865-4b29-c5e5-85d4516953ea"
   },
   "outputs": [],
   "source": [
    "# Convertir la columna 'CLASIFICACION_PANDEMIA' en un tipo de datos categórico en el DataFrame original\n",
    "base['CLASIFICACION_PANDEMIA'] = base['CLASIFICACION_PANDEMIA'].astype('category')\n",
    "\n",
    "# Crear el diagrama de caja por categoría\n",
    "sns.boxplot(x='CLASIFICACION_PANDEMIA', y='TIEMPO_DEMORA', data=base)\n",
    "\n",
    "# Añadir título y etiquetas a los ejes\n",
    "plt.title('Demora desde consulta hasta diagnóstico')\n",
    "plt.xlabel('Clasificación de Pandemia')\n",
    "plt.ylabel('Tiempo (días)')\n",
    "\n",
    "# Mostrar el diagrama\n",
    "plt.show()"
   ]
  },
  {
   "cell_type": "markdown",
   "metadata": {
    "id": "G-tMqwcYXq-U"
   },
   "source": [
    "TIEMPO DEMORA DESDE QUE EL PACIENTE INICIO CON LOS SINTOMAS HASTA QUE SE DIAGNOSTICO"
   ]
  },
  {
   "cell_type": "code",
   "execution_count": null,
   "metadata": {
    "colab": {
     "base_uri": "https://localhost:8080/",
     "height": 144
    },
    "id": "CggpmveCVg84",
    "outputId": "a13cce6a-46fe-43ba-d1ec-9847d392b8ca"
   },
   "outputs": [],
   "source": [
    "import seaborn as sns\n",
    "import matplotlib.pyplot as plt\n",
    "from scipy import stats\n",
    "# Calcular las medidas de tendencia central para cada categoría segun clasificacion\n",
    "valor_tiempo = round(base.groupby('CLASIFICACION_PANDEMIA')['TIEMPO_DEMORA'].agg(['mean', 'median']),2)\n",
    "\n",
    "\n",
    "# Imprimir la tabla resumen\n",
    "valor_tiempo"
   ]
  },
  {
   "cell_type": "code",
   "execution_count": null,
   "metadata": {
    "colab": {
     "base_uri": "https://localhost:8080/",
     "height": 865
    },
    "id": "ndCMdEhBWdGN",
    "outputId": "a525d470-10f9-4423-ef5f-fab45450404b"
   },
   "outputs": [],
   "source": [
    "# Calcular las medidas de tendencia central (media y mediana) para cada categoría según clasificación y provincia\n",
    "valor_tiempo = round(base.groupby(['PROVINCIA_RESIDENCIA', 'CLASIFICACION_PANDEMIA'])['TIEMPO_DEMORA'].agg(['mean', 'median']).unstack(), 2)\n",
    "\n",
    "# Renombrar las columnas\n",
    "valor_tiempo.columns = ['Media_Antes', 'Media_Despues', 'Mediana_Antes', 'Mediana_Despues']\n",
    "\n",
    "# Imprimir la tabla resumen\n",
    "valor_tiempo\n",
    "\n",
    "\n"
   ]
  },
  {
   "cell_type": "markdown",
   "metadata": {
    "id": "JAz8I8YtX1Z6"
   },
   "source": [
    "TIEMPO DEMORA DESDE QUE EL PACIENTE INICIO el TRATAMIENTO Y LO TERMINO\n",
    "\n",
    "aca hay que tener en cuento la distribucion de la variable que se analiza simetrica (normal) asimetrico (no normal) si la media es mayor a la mediana y la moda por lo que se espera una distribución asimétrica a la derecha."
   ]
  },
  {
   "cell_type": "code",
   "execution_count": null,
   "metadata": {
    "colab": {
     "base_uri": "https://localhost:8080/",
     "height": 472
    },
    "id": "BvSLyoEvlS4A",
    "outputId": "50b26d65-30d8-4ef9-b45b-d82ec8643048"
   },
   "outputs": [],
   "source": [
    "\n",
    "# Convertir la columna 'CLASIFICACION_PANDEMIA' en un tipo de datos categórico en el DataFrame original\n",
    "base['CLASIFICACION_PANDEMIA'] = base['CLASIFICACION_PANDEMIA'].astype('category')\n",
    "\n",
    "\n",
    "# Crear el diagrama de caja por categoría\n",
    "sns.boxplot(x='CLASIFICACION_PANDEMIA', y='TIEMPO_DEMORA_TTO', data=base)\n",
    "\n",
    "# Añadir título y etiquetas a los ejes\n",
    "plt.title('Demora tratamiento')\n",
    "plt.xlabel('Clasificación de Pandemia')\n",
    "plt.ylabel('Tiempo (días)')\n",
    "\n",
    "# Mostrar el diagrama\n",
    "plt.show()"
   ]
  },
  {
   "cell_type": "code",
   "execution_count": null,
   "metadata": {
    "colab": {
     "base_uri": "https://localhost:8080/",
     "height": 807
    },
    "id": "IAGQQXYT1UpD",
    "outputId": "75054e92-f2d0-45c2-a2bd-33e3ec02088e"
   },
   "outputs": [],
   "source": [
    "# Convertir la columna 'CLASIFICACION_PANDEMIA' en un tipo de datos categórico en el DataFrame original\n",
    "base['CLASIFICACION_PANDEMIA'] = base['CLASIFICACION_PANDEMIA'].astype('category')\n",
    "\n",
    "# Filtrar datos para 'Antes' y 'Después' de la clasificación de la pandemia\n",
    "antes_pandemia = base[base['CLASIFICACION_PANDEMIA'] == 'Antes']\n",
    "despues_pandemia = base[base['CLASIFICACION_PANDEMIA'] == 'Despues']\n",
    "\n",
    "# Obtener las provincias únicas presentes en ambos grupos y ordenarlas alfabéticamente\n",
    "provincias_disponibles = sorted(set(map(str, antes_pandemia['PROVINCIA_RESIDENCIA'])).intersection(set(map(str, despues_pandemia['PROVINCIA_RESIDENCIA']))))\n",
    "\n",
    "# Crear una paleta de colores para que las provincias tengan el mismo color en ambos grupos\n",
    "colores = sns.color_palette(\"husl\", len(provincias_disponibles))\n",
    "\n",
    "# Crear dos gráficos de caja separados\n",
    "plt.figure(figsize=(14, 8))  # Ajustar el tamaño de la figura\n",
    "\n",
    "# Gráfico para 'Antes'\n",
    "plt.subplot(1, 2, 1)\n",
    "sns.boxplot(x='PROVINCIA_RESIDENCIA', y='TIEMPO_DEMORA', data=antes_pandemia, order=provincias_disponibles, palette=colores)\n",
    "plt.title('Demora diagnóstico por Provincia (Antes)')\n",
    "plt.xlabel('Provincia')\n",
    "plt.ylabel('Tiempo (días)')\n",
    "plt.xticks(rotation=45, ha=\"right\")  # Ajustar la rotación y alinear a la derecha\n",
    "\n",
    "# Gráfico para 'Después'\n",
    "plt.subplot(1, 2, 2)\n",
    "sns.boxplot(x='PROVINCIA_RESIDENCIA', y='TIEMPO_DEMORA', data=despues_pandemia, order=provincias_disponibles, palette=colores)\n",
    "plt.title('Demora diagnostico por Provincia (Después)')\n",
    "plt.xlabel('Provincia')\n",
    "plt.ylabel('Tiempo (días)')\n",
    "plt.xticks(rotation=45, ha=\"right\")  # Ajustar la rotación y alinear a la derecha\n",
    "\n",
    "# Ajustar los márgenes para que los nombres de las provincias se vean mejor\n",
    "plt.tight_layout()\n",
    "\n",
    "# Mostrar los gráficos\n",
    "plt.show()\n"
   ]
  },
  {
   "cell_type": "code",
   "execution_count": null,
   "metadata": {
    "colab": {
     "base_uri": "https://localhost:8080/",
     "height": 807
    },
    "id": "1BnJHGrKlnk3",
    "outputId": "7a0b22d3-062d-47d4-ae24-04eb1654e3fe"
   },
   "outputs": [],
   "source": [
    "\n",
    "# Convertir la columna 'CLASIFICACION_PANDEMIA' en un tipo de datos categórico en el DataFrame original\n",
    "base['CLASIFICACION_PANDEMIA'] = base['CLASIFICACION_PANDEMIA'].astype('category')\n",
    "\n",
    "# Crear el diagrama de caja por provincia\n",
    "plt.figure(figsize=(14, 8))  # Ajustar el tamaño de la figura\n",
    "sns.boxplot(x='PROVINCIA_RESIDENCIA', y='TIEMPO_DEMORA_TTO', data=base)\n",
    "\n",
    "# Añadir título y etiquetas a los ejes\n",
    "plt.title('Demora tratamiento por Provincia')\n",
    "plt.xlabel('Provincia')\n",
    "plt.ylabel('Tiempo (días)')\n",
    "\n",
    "# Rotar las etiquetas del eje x para que sean legibles\n",
    "plt.xticks(rotation=45, ha=\"right\")  # Ajustar la rotación y alinear a la derecha\n",
    "\n",
    "# Ajustar los márgenes para que los nombres de las provincias se vean mejor\n",
    "plt.tight_layout()\n",
    "\n",
    "# Mostrar el diagrama\n",
    "plt.show()\n"
   ]
  },
  {
   "cell_type": "code",
   "execution_count": null,
   "metadata": {
    "colab": {
     "base_uri": "https://localhost:8080/",
     "height": 807
    },
    "id": "PWqkq3lB1G-i",
    "outputId": "98111070-6c4a-4b39-bc53-a1d8fe693d5e"
   },
   "outputs": [],
   "source": [
    "# Convertir la columna 'CLASIFICACION_PANDEMIA' en un tipo de datos categórico en el DataFrame original\n",
    "base['CLASIFICACION_PANDEMIA'] = base['CLASIFICACION_PANDEMIA'].astype('category')\n",
    "\n",
    "# Filtrar datos para 'Antes' y 'Después' de la clasificación de la pandemia\n",
    "antes_pandemia = base[base['CLASIFICACION_PANDEMIA'] == 'Antes']\n",
    "despues_pandemia = base[base['CLASIFICACION_PANDEMIA'] == 'Despues']\n",
    "\n",
    "# Obtener las provincias únicas presentes en ambos grupos y ordenarlas alfabéticamente\n",
    "provincias_disponibles = sorted(set(map(str, antes_pandemia['PROVINCIA_RESIDENCIA'])).intersection(set(map(str, despues_pandemia['PROVINCIA_RESIDENCIA']))))\n",
    "\n",
    "# Crear una paleta de colores para que las provincias tengan el mismo color en ambos grupos\n",
    "colores = sns.color_palette(\"husl\", len(provincias_disponibles))\n",
    "\n",
    "# Crear dos gráficos de caja separados\n",
    "plt.figure(figsize=(14, 8))  # Ajustar el tamaño de la figura\n",
    "\n",
    "# Gráfico para 'Antes'\n",
    "plt.subplot(1, 2, 1)\n",
    "sns.boxplot(x='PROVINCIA_RESIDENCIA', y='TIEMPO_DEMORA_TTO', data=antes_pandemia, order=provincias_disponibles, palette=colores)\n",
    "plt.title('Demora tratamiento por Provincia (Antes)')\n",
    "plt.xlabel('Provincia')\n",
    "plt.ylabel('Tiempo (días)')\n",
    "plt.xticks(rotation=45, ha=\"right\")  # Ajustar la rotación y alinear a la derecha\n",
    "\n",
    "# Gráfico para 'Después'\n",
    "plt.subplot(1, 2, 2)\n",
    "sns.boxplot(x='PROVINCIA_RESIDENCIA', y='TIEMPO_DEMORA_TTO', data=despues_pandemia, order=provincias_disponibles, palette=colores)\n",
    "plt.title('Demora tratamiento por Provincia (Después)')\n",
    "plt.xlabel('Provincia')\n",
    "plt.ylabel('Tiempo (días)')\n",
    "plt.xticks(rotation=45, ha=\"right\")  # Ajustar la rotación y alinear a la derecha\n",
    "\n",
    "# Ajustar los márgenes para que los nombres de las provincias se vean mejor\n",
    "plt.tight_layout()\n",
    "\n",
    "# Mostrar los gráficos\n",
    "plt.show()\n"
   ]
  },
  {
   "cell_type": "code",
   "execution_count": null,
   "metadata": {
    "colab": {
     "base_uri": "https://localhost:8080/",
     "height": 865
    },
    "id": "QnPClE7QX49b",
    "outputId": "c88ae3ac-cc9e-4bdc-f962-362ab38961de"
   },
   "outputs": [],
   "source": [
    "valor_tiempo_tto = round(base.groupby(['PROVINCIA_RESIDENCIA', 'CLASIFICACION_PANDEMIA'])['TIEMPO_DEMORA_TTO'].agg(['mean', 'median']).unstack(), 2)\n",
    "\n",
    "# Renombrar las columnas\n",
    "valor_tiempo_tto.columns = ['Media_Antes', 'Media_Despues', 'Mediana_Antes', 'Mediana_Despues']\n",
    "\n",
    "# Imprimir la tabla resumen\n",
    "valor_tiempo_tto"
   ]
  },
  {
   "cell_type": "code",
   "execution_count": null,
   "metadata": {
    "colab": {
     "base_uri": "https://localhost:8080/",
     "height": 595
    },
    "id": "jvfjUHoVM7gZ",
    "outputId": "10810251-915e-4e58-dff2-f31fb0a25144"
   },
   "outputs": [],
   "source": [
    "import matplotlib.pyplot as plt\n",
    "\n",
    "paleta_colores = sns.color_palette('husl', n_colors=len(base['PROVINCIA_RESIDENCIA'].unique()))\n",
    "\n",
    "# Por edad y provincias, contar las ocurrencias\n",
    "agrupado = base[(~base['EDAD_DIAGNOSTICO'].isnull()) & (base['PROVINCIA_RESIDENCIA'] != \"*sin dato*\")].groupby(['EDAD_DIAGNOSTICO', 'PROVINCIA_RESIDENCIA']).size().unstack(fill_value=0)\n",
    "\n",
    "# Crear un gráfico de barras apiladas\n",
    "agrupado.plot(kind='bar', stacked=True, figsize=(12, 6), color=paleta_colores)\n",
    "plt.title('Visualización por Edad de diagnóstico y Provincia')\n",
    "plt.xlabel('Edad')\n",
    "plt.ylabel('Número de Casos')\n",
    "plt.legend(title='Provincia', bbox_to_anchor=(1.05, 1), loc='upper left')\n",
    "\n",
    "plt.show()\n"
   ]
  },
  {
   "cell_type": "code",
   "execution_count": null,
   "metadata": {
    "colab": {
     "base_uri": "https://localhost:8080/",
     "height": 616
    },
    "id": "KkhwqA7laJ-q",
    "outputId": "149a933e-8361-44dd-d6e7-04d1462d0acc"
   },
   "outputs": [],
   "source": [
    "import matplotlib.pyplot as plt\n",
    "\n",
    "paleta_colores = sns.color_palette('husl', n_colors=len(base['PROVINCIA_RESIDENCIA'].unique()))\n",
    "\n",
    "# Por edad y provincias, contar las ocurrencias\n",
    "agrupado = base[(~base['EDAD_DIAGNOSTICO'].isnull()) & (base['CLASIFICACION_PANDEMIA'] == \"Despues\")].groupby(['EDAD_DIAGNOSTICO', 'PROVINCIA_RESIDENCIA']).size().unstack(fill_value=0)\n",
    "\n",
    "# Crear un gráfico de barras apiladas\n",
    "agrupado.plot(kind='bar', stacked=True, figsize=(12, 6), color=paleta_colores)\n",
    "plt.title('Visualización por Edad de diagnóstico y Provincia de casos notificados despues de la pandemia')\n",
    "plt.xlabel('Edad')\n",
    "plt.ylabel('Número de Casos')\n",
    "plt.legend(title='Provincia', bbox_to_anchor=(1.05, 1), loc='upper left')\n",
    "\n",
    "plt.show()"
   ]
  },
  {
   "cell_type": "code",
   "execution_count": null,
   "metadata": {
    "colab": {
     "base_uri": "https://localhost:8080/",
     "height": 616
    },
    "id": "2mhyp0ckatm3",
    "outputId": "c86c484f-6725-49ab-8ef6-05e1035a5bc0"
   },
   "outputs": [],
   "source": [
    "import matplotlib.pyplot as plt\n",
    "\n",
    "paleta_colores = sns.color_palette('husl', n_colors=len(base['PROVINCIA_RESIDENCIA'].unique()))\n",
    "\n",
    "# Por edad y provincias, contar las ocurrencias\n",
    "agrupado = base[(~base['EDAD_DIAGNOSTICO'].isnull()) & (base['CLASIFICACION_PANDEMIA'] == \"Antes\")].groupby(['EDAD_DIAGNOSTICO', 'PROVINCIA_RESIDENCIA']).size().unstack(fill_value=0)\n",
    "\n",
    "# Crear un gráfico de barras apiladas\n",
    "agrupado.plot(kind='bar', stacked=True, figsize=(12, 6), color=paleta_colores)\n",
    "plt.title('Visualización por Edad de diagnóstico y Provincia de casos notificados antes de la pandemia')\n",
    "plt.xlabel('Edad')\n",
    "plt.ylabel('Número de Casos')\n",
    "plt.legend(title='Provincia', bbox_to_anchor=(1.05, 1), loc='upper left')\n",
    "\n",
    "plt.show()"
   ]
  },
  {
   "cell_type": "code",
   "execution_count": null,
   "metadata": {
    "id": "9LddKGtZMyqZ"
   },
   "outputs": [],
   "source": [
    "# Reemplazar \"*sin dato*\" con NaN (valores faltantes)\n",
    "base['PROVINCIA_RESIDENCIA'] = base['PROVINCIA_RESIDENCIA'].replace('*sin dato*', pd.NA)\n",
    "\n",
    "# Eliminar filas con NaN en 'PROVINCIA_RESIDENCIA'\n",
    "base = base.dropna(subset=['PROVINCIA_RESIDENCIA'])\n",
    "\n",
    "# Restablecer índice si es necesario\n",
    "base = base.reset_index(drop=True)"
   ]
  },
  {
   "cell_type": "code",
   "execution_count": null,
   "metadata": {
    "colab": {
     "base_uri": "https://localhost:8080/",
     "height": 1000
    },
    "id": "ozE2Y1V6MyqZ",
    "outputId": "9751eddf-464f-4621-955d-d365bebd0905"
   },
   "outputs": [],
   "source": [
    "table1 = pd.crosstab(pd.cut(base['TIEMPO_DEMORA'], bins=[0, 50, 100, 150, 200, 250, 300, 350, float('inf')],\n",
    "                            labels=['0-50', '51-100', '101-150', '151-200', '201-250', '251-300', '301-350', '351+']),\n",
    "                     base['PROVINCIA_RESIDENCIA'])\n",
    "\n",
    "# Graficar el histograma de barras apiladas\n",
    "plt.figure(figsize=(20, 10))\n",
    "sns.heatmap(table1, cmap='YlGnBu', annot=True, fmt='d', cbar=True, cbar_kws={'label': 'Frecuencia'})\n",
    "plt.title('Distribución de TIEMPO DE DEMORA por PROVINCIA_RESIDENCIA')\n",
    "plt.xlabel('PROVINCIA_RESIDENCIA')\n",
    "plt.ylabel('TIEMPO DE DEMORA')\n",
    "\n",
    "plt.show()"
   ]
  },
  {
   "cell_type": "code",
   "execution_count": null,
   "metadata": {
    "colab": {
     "base_uri": "https://localhost:8080/",
     "height": 946
    },
    "id": "NdEY1K2WMyqa",
    "outputId": "aa13f452-7f2e-490a-80e7-040a60fbdba8"
   },
   "outputs": [],
   "source": [
    "import seaborn as sns\n",
    "import matplotlib.pyplot as plt\n",
    "\n",
    "# Crear el cuadro de cajas\n",
    "plt.figure(figsize=(12, 8))\n",
    "sns.boxplot(x='PROVINCIA_RESIDENCIA', y='TIEMPO_DEMORA', data=base[(base['TIEMPO_DEMORA'] <= 100) & (base['CLASIFICACION_PANDEMIA'] == 'Antes')],\n",
    "            palette='Set3')\n",
    "plt.title('Distribución de tiempo de demora previo a la pandemia de COVID-19 según provincias de residencia')\n",
    "plt.xlabel('PROVINCIA DE RESIDENCIA')\n",
    "plt.ylabel('TIEMPO DE DEMORA (en días)')\n",
    "plt.xticks(rotation=90)\n",
    "plt.show()\n"
   ]
  },
  {
   "cell_type": "code",
   "execution_count": null,
   "metadata": {
    "colab": {
     "base_uri": "https://localhost:8080/",
     "height": 946
    },
    "id": "2ZdcOPKfMyqb",
    "outputId": "e8bb4b0a-a414-4bf0-d8ec-900727028c9c"
   },
   "outputs": [],
   "source": [
    "import seaborn as sns\n",
    "import matplotlib.pyplot as plt\n",
    "\n",
    "# Crear el cuadro de cajas\n",
    "plt.figure(figsize=(12, 8))\n",
    "sns.boxplot(x='PROVINCIA_RESIDENCIA', y='TIEMPO_DEMORA', data=base[(base['TIEMPO_DEMORA'] <= 160) & (base['CLASIFICACION_PANDEMIA'] == 'Despues')],\n",
    "            palette='Set3')\n",
    "plt.title('Distribución de tiempo de demora posterior a la pandemia de COVID-19 según provincias de residencia')\n",
    "plt.xlabel('PROVINCIA DE RESIDENCIA')\n",
    "plt.ylabel('TIEMPO DE DEMORA (en días)')\n",
    "plt.xticks(rotation=90)\n",
    "plt.show()\n"
   ]
  },
  {
   "cell_type": "code",
   "execution_count": null,
   "metadata": {
    "colab": {
     "base_uri": "https://localhost:8080/",
     "height": 699
    },
    "id": "-2ilu5pFR_8j",
    "outputId": "6f4d8488-3954-407c-dad3-91998b5492d8"
   },
   "outputs": [],
   "source": [
    "# URL del archivo GeoJSON\n",
    "url = \"https://infra.datos.gob.ar/catalog/modernizacion/dataset/7/distribution/7.31/download/localidades-censales.geojson\"\n",
    "\n",
    "# Descargo el geojson\n",
    "response = requests.get(url)\n",
    "\n",
    "# Guardo el archivo\n",
    "with open(\"localidades-censales.geojson\", \"wb\") as f:\n",
    "    f.write(response.content)\n",
    "\n",
    "# Cargop el archivo GeoJSON\n",
    "gdf = gpd.read_file(\"localidades-censales.geojson\")\n",
    "\n",
    "# Fusiono gdf con base usando la columna 'nombre' para fusión\n",
    "merged = gdf.merge(base, left_on='nombre', right_on='LOCALIDAD_RESIDENCIA')\n",
    "\n",
    "# mapa de puntos\n",
    "fig, ax = plt.subplots(figsize=(12, 8))\n",
    "gdf.plot(ax=ax, marker= 'o', color='purple', markersize=5)\n",
    "ctx.add_basemap(ax, crs=merged.crs.to_string(), source=ctx.providers.OpenStreetMap.Mapnik)\n",
    "\n",
    "\n",
    "plt.title('Visualización Georreferenciada de Casos por Localidad')\n",
    "plt.show()\n"
   ]
  },
  {
   "cell_type": "markdown",
   "metadata": {
    "id": "1fujgsuVMz7M"
   },
   "source": [
    "ANTES PANDEMIA POR LOCALIDAD"
   ]
  },
  {
   "cell_type": "code",
   "execution_count": null,
   "metadata": {
    "colab": {
     "base_uri": "https://localhost:8080/",
     "height": 699
    },
    "id": "amIMj4HLMdUq",
    "outputId": "ee495a79-1864-4e5e-9ba2-a12dca483e19"
   },
   "outputs": [],
   "source": [
    "# URL del archivo GeoJSON\n",
    "url = \"https://infra.datos.gob.ar/catalog/modernizacion/dataset/7/distribution/7.31/download/localidades-censales.geojson\"\n",
    "\n",
    "# Descargo el geojson\n",
    "response = requests.get(url)\n",
    "\n",
    "# Guardo el archivo\n",
    "with open(\"localidades-censales.geojson\", \"wb\") as f:\n",
    "    f.write(response.content)\n",
    "#seleccionar solo los casos diagnosticados antes de la pandemia\n",
    "datos_antes = base[base['CLASIFICACION_PANDEMIA'] == 'Antes']\n",
    "\n",
    "# Cargop el archivo GeoJSON\n",
    "gdf = gpd.read_file(\"localidades-censales.geojson\")\n",
    "\n",
    "# Fusiono gdf con base usando la columna 'nombre' para fusión\n",
    "merged = gdf.merge(datos_antes, left_on='nombre', right_on='LOCALIDAD_RESIDENCIA')\n",
    "\n",
    "# mapa de puntos\n",
    "fig, ax = plt.subplots(figsize=(12, 8))\n",
    "gdf.plot(ax=ax, marker= 'o', color='red', markersize=5)\n",
    "ctx.add_basemap(ax, crs=merged.crs.to_string(), source=ctx.providers.OpenStreetMap.Mapnik)\n",
    "\n",
    "\n",
    "plt.title('Visualización Georreferenciada de Casos por Localidad Notificados antes de la Pandemia')\n",
    "plt.show()"
   ]
  },
  {
   "cell_type": "code",
   "execution_count": null,
   "metadata": {
    "colab": {
     "base_uri": "https://localhost:8080/",
     "height": 699
    },
    "id": "JB09fMQ6M3rA",
    "outputId": "17f7df9b-d9e9-4b90-921a-4765967e39c2"
   },
   "outputs": [],
   "source": [
    "# URL del archivo GeoJSON\n",
    "url = \"https://infra.datos.gob.ar/catalog/modernizacion/dataset/7/distribution/7.31/download/localidades-censales.geojson\"\n",
    "\n",
    "# Descargo el geojson\n",
    "response = requests.get(url)\n",
    "\n",
    "# Guardo el archivo\n",
    "with open(\"localidades-censales.geojson\", \"wb\") as f:\n",
    "    f.write(response.content)\n",
    "#seleccionar solo los casos diagnosticados antes de la pandemia\n",
    "datos_despues = base[base['CLASIFICACION_PANDEMIA'] == 'Despues']\n",
    "\n",
    "# Cargop el archivo GeoJSON\n",
    "gdf = gpd.read_file(\"localidades-censales.geojson\")\n",
    "\n",
    "# Fusiono gdf con base usando la columna 'nombre' para fusión\n",
    "merged = gdf.merge(datos_despues, left_on='nombre', right_on='LOCALIDAD_RESIDENCIA')\n",
    "\n",
    "# mapa de puntos\n",
    "fig, ax = plt.subplots(figsize=(12, 8))\n",
    "gdf.plot(ax=ax, marker= 'o', color='green', markersize=5)\n",
    "ctx.add_basemap(ax, crs=merged.crs.to_string(), source=ctx.providers.OpenStreetMap.Mapnik)\n",
    "\n",
    "\n",
    "plt.title('Visualización Georreferenciada de Casos por Localidad Notificados despues de la Pandemia')\n",
    "plt.show()"
   ]
  },
  {
   "cell_type": "markdown",
   "metadata": {
    "id": "iTLWZGpd3Bch"
   },
   "source": [
    "Georreferencia de cantidad de casos por provincia"
   ]
  },
  {
   "cell_type": "code",
   "execution_count": null,
   "metadata": {
    "colab": {
     "base_uri": "https://localhost:8080/",
     "height": 1000
    },
    "id": "IIOndr8pwL30",
    "outputId": "ab103e7b-1f1c-43d9-8b63-bb55aa6f7689"
   },
   "outputs": [],
   "source": [
    "# URL del archivo GeoJSON\n",
    "url = \"https://infra.datos.gob.ar/catalog/modernizacion/dataset/7/distribution/7.12/download/provincias.geojson\"\n",
    "\n",
    "# Descargo el geojson\n",
    "response = requests.get(url)\n",
    "\n",
    "# Guardo el archivo\n",
    "with open(\"provincias.geojson\", \"wb\") as f:\n",
    "    f.write(response.content)\n",
    "\n",
    "# Cargop el archivo GeoJSON\n",
    "gdf = gpd.read_file(\"provincias.geojson\")\n",
    "\n",
    "# Realizo el conteo por provincia_residencia en el DataFrame base\n",
    "conteo_provincias = base['PROVINCIA_RESIDENCIA'].value_counts().reset_index()\n",
    "conteo_provincias.columns = ['PROVINCIA_RESIDENCIA', 'CANTIDAD']\n",
    "\n",
    "# Fusiono el GeoDataFrame con los datos de conteo\n",
    "merged = gdf.merge(conteo_provincias, left_on='nombre', right_on='PROVINCIA_RESIDENCIA')\n",
    "\n",
    "# Creo gráfico\n",
    "fig, ax = plt.subplots(figsize=(20,15))\n",
    "\n",
    "# Escalo según el tamaño de los marcadores según 'CANTIDAD'\n",
    "scaled_marker_size = merged['CANTIDAD'] * 1\n",
    "\n",
    "# Graficar el mapa de puntos con el tamaño de los marcadores escalado\n",
    "merged.plot(ax=ax, color='purple', markersize=scaled_marker_size, alpha=0.7)\n",
    "\n",
    "# Añadir un mapa de fondo (contextily)\n",
    "ctx.add_basemap(ax, crs=merged.crs.to_string(), source=ctx.providers.Stamen.TonerLite)\n",
    "\n",
    "# Título del gráfico\n",
    "plt.title('Cantidad de casos por Provincia de Residencia')\n",
    "\n",
    "# Mostrar el gráfico\n",
    "plt.show()\n"
   ]
  },
  {
   "cell_type": "code",
   "execution_count": null,
   "metadata": {
    "colab": {
     "base_uri": "https://localhost:8080/",
     "height": 864
    },
    "id": "XF5fglrg85c-",
    "outputId": "5113576e-1b55-4079-c3f4-a9a1ede7a406"
   },
   "outputs": [],
   "source": [
    "# Crear una figura con dos subplots uno al lado del otro\n",
    "fig, axes = plt.subplots(1, 2, figsize=(20, 10))\n",
    "\n",
    "# Filtrar datos para 'Antes' de la clasificación de la pandemia\n",
    "datos_antes = base[base['CLASIFICACION_PANDEMIA'] == 'Antes']\n",
    "\n",
    "# Realizar el conteo por provincia_residencia en los datos antes de la pandemia\n",
    "conteo_provincias_antes = datos_antes['PROVINCIA_RESIDENCIA'].value_counts().reset_index()\n",
    "conteo_provincias_antes.columns = ['PROVINCIA_RESIDENCIA', 'CANTIDAD']\n",
    "\n",
    "# Fusionar el GeoDataFrame con los datos de conteo para 'Antes'\n",
    "merged_antes = gdf.merge(conteo_provincias_antes, left_on='nombre', right_on='PROVINCIA_RESIDENCIA')\n",
    "\n",
    "# Escalar el tamaño de los marcadores según 'CANTIDAD' para 'Antes'\n",
    "scaled_marker_size_antes = merged_antes['CANTIDAD'] * 1\n",
    "\n",
    "# Graficar el mapa de puntos para 'Antes'\n",
    "merged_antes.plot(ax=axes[0], color='red', markersize=scaled_marker_size_antes, alpha=0.7)\n",
    "ctx.add_basemap(axes[0], crs=merged_antes.crs.to_string(), source=ctx.providers.Stamen.TonerLite)\n",
    "axes[0].set_title('Cantidad de casos por Provincia de Residencia (Antes de la pandemia)')\n",
    "axes[0].set_aspect('equal', adjustable='datalim')  # Añadir adjustable para ajuste automático\n",
    "\n",
    "# Filtrar datos para 'Después' de la clasificación de la pandemia\n",
    "datos_despues = base[base['CLASIFICACION_PANDEMIA'] == 'Despues']\n",
    "\n",
    "# Realizar el conteo por provincia_residencia en los datos después de la pandemia\n",
    "conteo_provincias_despues = datos_despues['PROVINCIA_RESIDENCIA'].value_counts().reset_index()\n",
    "conteo_provincias_despues.columns = ['PROVINCIA_RESIDENCIA', 'CANTIDAD']\n",
    "\n",
    "# Fusionar el GeoDataFrame con los datos de conteo para 'Después'\n",
    "merged_despues = gdf.merge(conteo_provincias_despues, left_on='nombre', right_on='PROVINCIA_RESIDENCIA')\n",
    "\n",
    "# Escalar el tamaño de los marcadores según 'CANTIDAD' para 'Después'\n",
    "scaled_marker_size_despues = merged_despues['CANTIDAD'] * 1\n",
    "\n",
    "# Graficar el mapa de puntos para 'Después'\n",
    "merged_despues.plot(ax=axes[1], color='green', markersize=scaled_marker_size_despues, alpha=0.7)\n",
    "ctx.add_basemap(axes[1], crs=merged_despues.crs.to_string(), source=ctx.providers.Stamen.TonerLite)\n",
    "axes[1].set_title('Cantidad de casos por Provincia de Residencia (Después de la pandemia)')\n",
    "axes[1].set_aspect('equal', adjustable='datalim')  # Añadir adjustable para ajuste automático\n",
    "\n",
    "# Mostrar los gráficos uno al lado del otro\n",
    "plt.tight_layout()\n",
    "plt.show()\n",
    "\n"
   ]
  },
  {
   "cell_type": "markdown",
   "metadata": {
    "id": "FGgmzL9dbwIW"
   },
   "source": [
    "Antes de hacer el análisis de covarianza, generamos un nuevo df quedándonos sólo con las variables que consideramos que más aportan al análisis\n"
   ]
  },
  {
   "cell_type": "code",
   "execution_count": null,
   "metadata": {
    "colab": {
     "base_uri": "https://localhost:8080/"
    },
    "id": "iNLcbhFXb_SY",
    "outputId": "d5a32f01-39bd-425c-d93a-adadf4cf2ca2"
   },
   "outputs": [],
   "source": [
    "base.columns"
   ]
  },
  {
   "cell_type": "markdown",
   "metadata": {
    "id": "2fFKjsrAhuuS"
   },
   "source": [
    "#Analisis de covarianza entre las variables"
   ]
  },
  {
   "cell_type": "code",
   "execution_count": null,
   "metadata": {
    "colab": {
     "base_uri": "https://localhost:8080/",
     "height": 867
    },
    "id": "u5ZV5V2cchZf",
    "outputId": "51b22702-2563-4973-aad8-0f79457f1517"
   },
   "outputs": [],
   "source": [
    "base.plot(kind='scatter',x='TIEMPO_DEMORA_TTO',y='TIEMPO_DEMORA',grid=True,figsize=(20,10))"
   ]
  },
  {
   "cell_type": "code",
   "execution_count": null,
   "metadata": {
    "colab": {
     "base_uri": "https://localhost:8080/",
     "height": 867
    },
    "id": "opH2uy9WRs8W",
    "outputId": "0164bcb2-a7b7-4b67-c295-0da94afac6fd"
   },
   "outputs": [],
   "source": [
    "base.plot(kind='scatter',x='EDAD_DIAGNOSTICO',y='TIEMPO_DEMORA',grid=True,figsize=(20,10))"
   ]
  },
  {
   "cell_type": "code",
   "execution_count": null,
   "metadata": {
    "id": "VqlzGCGLbvhy"
   },
   "outputs": [],
   "source": [
    "df_cuantitativas =base[['TIEMPO_DEMORA', 'TIEMPO_DEMORA_TTO','EDAD_DIAGNOSTICO']]"
   ]
  },
  {
   "cell_type": "code",
   "execution_count": null,
   "metadata": {
    "colab": {
     "base_uri": "https://localhost:8080/",
     "height": 775
    },
    "id": "vNrzZlL8ScrG",
    "outputId": "f7ea90ec-0a95-473d-fa29-242eafb3afa2"
   },
   "outputs": [],
   "source": [
    "sns.pairplot(df_cuantitativas)"
   ]
  },
  {
   "cell_type": "code",
   "execution_count": null,
   "metadata": {
    "colab": {
     "base_uri": "https://localhost:8080/",
     "height": 1000
    },
    "id": "420FpFbBTDGL",
    "outputId": "560a946d-f1aa-4739-999d-20a5615a7ca7"
   },
   "outputs": [],
   "source": [
    "# Filtrar los datos para \"Antes\" y \"Después\"\n",
    "datos_antes = base[base['CLASIFICACION_PANDEMIA'] == 'Antes']\n",
    "datos_despues = base[base['CLASIFICACION_PANDEMIA'] == 'Despues']\n",
    "\n",
    "# Suponiendo que tienes un DataFrame llamado df con las variables cuantitativas\n",
    "df_cuantitativas_antes = datos_antes[['TIEMPO_DEMORA', 'TIEMPO_DEMORA_TTO', 'EDAD_DIAGNOSTICO']]  # Reemplaza con tus variables\n",
    "df_cuantitativas_despues = datos_despues[['TIEMPO_DEMORA', 'TIEMPO_DEMORA_TTO', 'EDAD_DIAGNOSTICO']]  # Reemplaza con tus variables\n",
    "\n",
    "# Crear pairplot para \"Antes\"\n",
    "sns.set(style=\"ticks\")\n",
    "g = sns.pairplot(df_cuantitativas_antes)\n",
    "g.fig.suptitle('Pairplot para el grupo Antes de la pandemia', y=1.02)\n",
    "plt.show()\n",
    "\n",
    "# Crear pairplot para \"Después\"\n",
    "sns.set(style=\"ticks\")\n",
    "g = sns.pairplot(df_cuantitativas_despues)\n",
    "g.fig.suptitle('Pairplot para el grupo Después de la pandemia', y=1.02)\n",
    "plt.show()\n"
   ]
  },
  {
   "cell_type": "markdown",
   "metadata": {
    "id": "XOoNsW7uc3Gm"
   },
   "source": [
    "Análisis de covarianza entre las variables.\n",
    "Del análisis de la covarianza se puede ver que edad tiene una covarianza positiva con tiempo de demora del diagnostico y negativa con tiempo de demora del trataeminto (MAYOR EDAD MENOR TIEMPO TTO Y MAYOR EDAD MAYOR TIEMPO DE DIAGNOSTICO??) Y esto se observa la misma covarianza por grupos."
   ]
  },
  {
   "cell_type": "code",
   "execution_count": null,
   "metadata": {
    "colab": {
     "base_uri": "https://localhost:8080/",
     "height": 613
    },
    "id": "O7XmN3hSc1Br",
    "outputId": "5ad24272-0209-4c1e-8b0b-d92bcd15c12a"
   },
   "outputs": [],
   "source": [
    "sns.heatmap(df_cuantitativas.corr(),annot=True)"
   ]
  },
  {
   "cell_type": "code",
   "execution_count": null,
   "metadata": {
    "colab": {
     "base_uri": "https://localhost:8080/",
     "height": 613
    },
    "id": "q0uCV7bKTnN_",
    "outputId": "5fb3b67a-b6cf-4b0b-ba21-b1ed2bd67336"
   },
   "outputs": [],
   "source": [
    "sns.heatmap(df_cuantitativas_antes.corr(),annot=True)"
   ]
  },
  {
   "cell_type": "code",
   "execution_count": null,
   "metadata": {
    "colab": {
     "base_uri": "https://localhost:8080/",
     "height": 613
    },
    "id": "YyuaZpT_Tusa",
    "outputId": "2d533e23-8291-4e7d-f3c4-57fad69869cd"
   },
   "outputs": [],
   "source": [
    "sns.heatmap(df_cuantitativas_despues.corr(),annot=True)"
   ]
  },
  {
   "cell_type": "markdown",
   "metadata": {
    "id": "aQOEhuX7VUQI"
   },
   "source": [
    "#Aprendizaje supervisado:\n",
    "\n",
    "Para predecir la demora en el diagnóstico."
   ]
  },
  {
   "cell_type": "markdown",
   "metadata": {
    "id": "cQLd2QJHdtMR"
   },
   "source": [
    "Regresión lineal multivariado\n",
    "Aplicamos un modelo de regresión lineal MULTIVARIADO buscando predecir el teimpo de demora del tratamiento según la edad del paciente y tiempo de demora del diagnostico"
   ]
  },
  {
   "cell_type": "code",
   "execution_count": null,
   "metadata": {
    "colab": {
     "base_uri": "https://localhost:8080/"
    },
    "id": "zKRqZ8gWMyqf",
    "outputId": "5598f383-4864-40eb-dab8-617270325ea2"
   },
   "outputs": [],
   "source": [
    "!pip install statsmodels"
   ]
  },
  {
   "cell_type": "code",
   "execution_count": null,
   "metadata": {
    "id": "BsGakJpgd4Gb"
   },
   "outputs": [],
   "source": [
    "#Importamos el módulo que necesitamos\n",
    "import statsmodels.formula.api as smf\n",
    "\n",
    "#Construimos el modelo.\n",
    "lm = smf.ols(formula='TIEMPO_DEMORA_TTO''~EDAD_DIAGNOSTICO + TIEMPO_DEMORA',data=df_cuantitativas).fit()"
   ]
  },
  {
   "cell_type": "code",
   "execution_count": null,
   "metadata": {
    "id": "lksE-JjPeV8e"
   },
   "outputs": [],
   "source": [
    "y = np.array(df_cuantitativas['TIEMPO_DEMORA_TTO'])"
   ]
  },
  {
   "cell_type": "code",
   "execution_count": null,
   "metadata": {
    "colab": {
     "base_uri": "https://localhost:8080/"
    },
    "id": "UMMBpyDdeYew",
    "outputId": "88114bb3-b082-4b74-b825-503ba4be5874"
   },
   "outputs": [],
   "source": [
    "print(lm.summary())"
   ]
  },
  {
   "cell_type": "markdown",
   "metadata": {
    "id": "Wf2UWP8Iehr1"
   },
   "source": [
    "R-cuadrado: Un valor de 0.005 indica que aproximadamente el 0.5% de la variabilidad en la variable \"demora en el tratamiento\" se puede explicar mediante las variables incluidas en el modelo. En otras palabras, solo una pequeña fracción de la variabilidad en la demora del tratamiento se puede atribuir a las variables independientes en el modelo. Esto sugiere que las variables incluidas en el modelo tienen una relación muy débil con la demora en el tratamiento.\n",
    "\n",
    "R-cuadrado ajustado: Un valor de 0.005 también indica que el ajuste del modelo no mejora al considerar el número de variables y observaciones. Esto significa que agregar más variables al modelo no aumentará significativamente la capacidad del modelo para explicar la variabilidad en la demora del tratamiento.\n",
    "\n",
    "Valor p: El valor p muy pequeño (2.88e-41) sugiere que hay evidencia significativa para rechazar la hipótesis nula de que no hay relación lineal entre las variables independientes y la variable dependiente. Esto indica que hay una relación estadísticamente significativa entre las variables independientes (como la edad del paciente y el tiempo de diagnóstico) y la demora en el tratamiento. Sin embargo, es importante tener en cuenta que aunque la relación es significativa desde el punto de vista estadístico, el valor de R-cuadrado es muy bajo, lo que sugiere que la relación es débil en términos prácticos.\n",
    "\n",
    "**Aunque existe una relación estadísticamente significativa entre las variables independientes y la demora en el tratamiento, esta relación es muy débil y explica solo una pequeña parte de la variabilidad observada en la demora del tratamiento. Por lo tanto, es posible que otros factores no incluidos en el modelo también influyan en la demora en el tratamiento.**"
   ]
  },
  {
   "cell_type": "markdown",
   "metadata": {
    "id": "fR2ZqbCtWJtH"
   },
   "source": [
    "#ANTES"
   ]
  },
  {
   "cell_type": "code",
   "execution_count": null,
   "metadata": {
    "colab": {
     "base_uri": "https://localhost:8080/"
    },
    "id": "b6FZx06eVyaV",
    "outputId": "a831d173-3da6-49f6-8c61-1080840d1bdb"
   },
   "outputs": [],
   "source": [
    "#Construimos el modelo.\n",
    "lm_antes = smf.ols(formula='TIEMPO_DEMORA_TTO''~EDAD_DIAGNOSTICO + TIEMPO_DEMORA',data=df_cuantitativas_antes).fit()\n",
    "y_antes = np.array(df_cuantitativas_antes['TIEMPO_DEMORA_TTO'])\n",
    "print(lm_antes.summary())"
   ]
  },
  {
   "cell_type": "markdown",
   "metadata": {
    "id": "ZMC9aT7UWMhb"
   },
   "source": [
    "#DESPUES"
   ]
  },
  {
   "cell_type": "code",
   "execution_count": null,
   "metadata": {
    "colab": {
     "base_uri": "https://localhost:8080/"
    },
    "id": "A5q2i3wyWL_i",
    "outputId": "0e672985-64de-4fa5-8127-f75ef36b4d31"
   },
   "outputs": [],
   "source": [
    "#Construimos el modelo.\n",
    "lm_despues = smf.ols(formula='TIEMPO_DEMORA_TTO''~EDAD_DIAGNOSTICO + TIEMPO_DEMORA',data=df_cuantitativas_despues).fit()\n",
    "y_despues = np.array(df_cuantitativas_despues['TIEMPO_DEMORA_TTO'])\n",
    "print(lm_antes.summary())"
   ]
  },
  {
   "cell_type": "markdown",
   "metadata": {
    "id": "Daid4BvzfHnZ"
   },
   "source": [
    "\n",
    "\n",
    "---\n",
    "\n",
    "\n",
    "\n",
    "---\n",
    "\n",
    "\n",
    "**Bosques aleatorios para árboles de regresión.**\n",
    "\n",
    "\n",
    "---\n",
    "\n",
    "---\n"
   ]
  },
  {
   "cell_type": "code",
   "execution_count": null,
   "metadata": {
    "id": "k0CV-AAYfJIB"
   },
   "outputs": [],
   "source": [
    "#Vamos a buscar el método adecuado\n",
    "from sklearn.ensemble import RandomForestRegressor"
   ]
  },
  {
   "cell_type": "code",
   "execution_count": null,
   "metadata": {
    "id": "JRe3X9PdfNM5"
   },
   "outputs": [],
   "source": [
    "#Generamos nuestra instancia\n",
    "#En el parámetro n_estimators le decimos la cantidad de árboles aleatorios queremos que genere.\n",
    "forest1= RandomForestRegressor(n_jobs=2,oob_score=True,n_estimators=5000)"
   ]
  },
  {
   "cell_type": "markdown",
   "metadata": {
    "id": "tsDwLParMyqi"
   },
   "source": [
    "Esto hice para indicar que solo tome las columnas que tienen valores numéricos, no me quedó claro si estaría bien"
   ]
  },
  {
   "cell_type": "code",
   "execution_count": null,
   "metadata": {
    "id": "HNiz9ilj75OQ"
   },
   "outputs": [],
   "source": [
    "X = base.copy()\n",
    "tipos_a_mantener = ['int64', 'float64']\n",
    "\n",
    "# Seleccionar las columnas que son de los tipos especificados\n",
    "X = X.select_dtypes(include=tipos_a_mantener)\n",
    "y = base['TIEMPO_DEMORA']  # Definir la columna objetivo"
   ]
  },
  {
   "cell_type": "code",
   "execution_count": null,
   "metadata": {
    "id": "Leie-Aye8XX6"
   },
   "outputs": [],
   "source": [
    "X = X.dropna(axis=1)"
   ]
  },
  {
   "cell_type": "code",
   "execution_count": null,
   "metadata": {
    "id": "MJwodVhT-XSU"
   },
   "outputs": [],
   "source": [
    "y = y.dropna()"
   ]
  },
  {
   "cell_type": "code",
   "execution_count": null,
   "metadata": {
    "colab": {
     "base_uri": "https://localhost:8080/",
     "height": 75
    },
    "id": "BPfJfg-_fO7m",
    "outputId": "bc1f2021-f56a-4331-ec94-bbf7841f5f5b"
   },
   "outputs": [],
   "source": [
    "#Ajustamos nuestro modelo\n",
    "forest1.fit(X,y)"
   ]
  },
  {
   "cell_type": "code",
   "execution_count": null,
   "metadata": {
    "colab": {
     "base_uri": "https://localhost:8080/"
    },
    "id": "BpGSsPv9fSX5",
    "outputId": "812c603f-8f58-4419-ca22-fd76ee911c9e"
   },
   "outputs": [],
   "source": [
    "#Podemos ver nuestras predicciones.\n",
    "forest1.oob_prediction_[:10]"
   ]
  },
  {
   "cell_type": "code",
   "execution_count": null,
   "metadata": {
    "colab": {
     "base_uri": "https://localhost:8080/"
    },
    "id": "mbRedrVhfVHX",
    "outputId": "ac392488-4a75-422b-a755-47ca9dc4b443"
   },
   "outputs": [],
   "source": [
    "print(\" El r2 del modelo es: \" , forest1.score(X, y))"
   ]
  },
  {
   "cell_type": "markdown",
   "metadata": {
    "id": "dYJL4QgifZwS"
   },
   "source": [
    "El R2 de los bosques aleatorios para árbol de regresión nos da 0.85 es decir que aproximadamente el 85 % de la variabilidad de los valores de respuesta se explica por las variables predictoras utilizadas en el modelo.\n",
    "\n",
    "Esta alta proporción de variabilidad sugiere que el modelo de bosques aleatorios tiene un buen ajuste a los datos y es capaz de capturar la relación entre las variables predictoras y la de respuesta.\n",
    "\n",
    "En otras palabras, el modelo es capaz de predecir con bastante precisión los valores de la variable de respuesta basándose en las variables predictoras."
   ]
  },
  {
   "cell_type": "markdown",
   "metadata": {
    "id": "_kC6W4ZUfpkE"
   },
   "source": [
    "\n",
    "---\n",
    "\n",
    "\n",
    "**Clasificación - KNN**\n",
    "\n",
    "\n",
    "---\n",
    "\n",
    "\n",
    "El algoritmo k-NN es un método de aprendizaje supervisado que clasifica los puntos de datos en función de la mayoría de votos de sus k vecinos más cercanos en el espacio de características. Es sencillo de entender e implementar, y puede funcionar bien en conjuntos de datos pequeños. Sin embargo, puede ser computacionalmente costoso para conjuntos de datos grandes y puede no funcionar bien cuando los datos tienen características irrelevantes o ruido.\n",
    "Los algoritmos de clasificación se utilizan cuando el resultado deseado es una etiqueta discreta."
   ]
  },
  {
   "cell_type": "code",
   "execution_count": null,
   "metadata": {
    "id": "DRencnD6frLM"
   },
   "outputs": [],
   "source": [
    "#librerias necesarias\n",
    "import numpy as np\n",
    "from sklearn.model_selection import train_test_split\n",
    "from sklearn import datasets\n",
    "from sklearn import preprocessing,neighbors\n",
    "from sklearn.preprocessing import StandardScaler\n",
    "from sklearn.linear_model import LogisticRegression\n",
    "from sklearn.metrics import classification_report, confusion_matrix"
   ]
  },
  {
   "cell_type": "code",
   "execution_count": null,
   "metadata": {
    "colab": {
     "base_uri": "https://localhost:8080/"
    },
    "id": "RN_U2kB4fuAW",
    "outputId": "b8f3e744-45a2-4bca-c8bc-c27e3a50b6c6"
   },
   "outputs": [],
   "source": [
    "# Selecciona las variables independientes (dependientes) que deseas utilizar\n",
    "variables_independientes = ['TIEMPO_DEMORA', 'TIEMPO_DEMORA_TTO', 'SEXO', 'EDAD_DIAGNOSTICO', 'PROVINCIA_RESIDENCIA']\n",
    "X = base[variables_independientes]\n",
    "\n",
    "# La variable predictora es 'CLASIFICACION_PANDEMIA'\n",
    "y = base['CLASIFICACION_PANDEMIA']\n",
    "\n",
    "# Codifica las variables categóricas (como 'SEXO' y 'PROVINCIA') en variables numéricas\n",
    "X_encoded = pd.get_dummies(X, columns=['SEXO', 'PROVINCIA_RESIDENCIA'], drop_first=True)\n",
    "\n",
    "# Divide los datos en conjuntos de entrenamiento y prueba\n",
    "X_train, X_test, y_train, y_test = train_test_split(X_encoded, y, test_size=0.2, random_state=42)\n",
    "\n",
    "# Estandariza las variables numéricas\n",
    "scaler = StandardScaler()\n",
    "X_train = scaler.fit_transform(X_train)\n",
    "X_test = scaler.transform(X_test)\n",
    "\n",
    "# Inicializa y entrena el modelo de Regresión Logística multinomial\n",
    "clf = LogisticRegression(multi_class='multinomial', solver='lbfgs')\n",
    "clf.fit(X_train, y_train)\n",
    "\n",
    "# Realizar predicciones en el conjunto de prueba\n",
    "y_pred = clf.predict(X_test)\n",
    "\n",
    "# Etiquetas de clases\n",
    "clases = ['Antes', 'Después']\n",
    "\n",
    "# Rendimiento del modelo\n",
    "confusion = confusion_matrix(y_test, y_pred)\n",
    "classification_rep = classification_report(y_test, y_pred, target_names=clases)\n",
    "\n",
    "# Imprimir métricas de rendimiento con etiquetas\n",
    "print(\"Matriz de Confusión:\")\n",
    "confusion_df = pd.DataFrame(confusion, index=clases, columns=clases)\n",
    "print(confusion_df)\n",
    "print(\"\\nReporte de Clasificación:\")\n",
    "print(classification_rep)\n",
    "\n"
   ]
  },
  {
   "cell_type": "markdown",
   "metadata": {
    "id": "JfAIHuN0ipkc"
   },
   "source": [
    "El informe de clasificación proporciona métricas detalladas sobre el rendimiento del modelo de clasificación para cada clase (en este caso, \"Antes\" y \"Después\"). Interpretación de las métricas en el reporte:\n",
    "- \"Antes\": Precisión (precisión): 0.57. Esto significa que el 57% de las predicciones que el modelo hizo para la clase \"Antes\" fueron correctas. Recall: 0,07. (también llamado sensibilidad o tasa de verdaderos positivos) es bajo, lo que indica que el modelo solo pudo identificar el 7% de todos los casos reales de \"Antes\". Puntuación F1 (f1-score): 0,12. La puntuación F1 es una medida que combina precisión y recuperación en una sola métrica. En este caso, es baja, lo que indica un bajo equilibrio entre precisión y recuperación.\"\n",
    "-\"Despues\": Precisión (precisión): 0.56. Esto significa que el 56% de las predicciones que el modelo hizo para la clase \"Despues\" fueron correctas. Recall: 0,96. (también llamado sensibilidad o tasa de verdaderos positivos) es bajo, lo que indica que el modelo pudo identificar el 96% de todos los casos reales de \"Despues\". Puntuación F1 (f1-score): 0,71. La puntuación F1 es una medida que combina precisión y recuperación en una sola métrica. En este caso, es alta, lo que indica un alto equilibrio entre precisión y recuperación para los casos de despues.\"\n",
    "\n",
    "**En general, estas métricas reflejan que el modelo es mucho más efectivo en la clasificación de la clase \"Después\" en comparación con la clase \"Antes\". El modelo tiene un buen equilibrio entre precisión y recuperación para \"Después\", mientras que su rendimiento en \"Antes\" es deficiente en términos de recuperación y, por lo tanto, en la identificación de los casos de \"Antes\". Esto sugiere que puede ser necesario ajustar o mejorar el modelo para tratar mejor la clase \"Antes\" si es importante en el contexto del problema.**\n",
    "\n",
    "\n",
    "\n"
   ]
  },
  {
   "cell_type": "code",
   "execution_count": null,
   "metadata": {
    "colab": {
     "base_uri": "https://localhost:8080/"
    },
    "id": "n0yYbA22fv3I",
    "outputId": "a64dba4f-ada2-4321-fcca-6cf5a39300b2"
   },
   "outputs": [],
   "source": [
    "base.columns"
   ]
  },
  {
   "cell_type": "markdown",
   "metadata": {
    "id": "uiiuAEorVYne"
   },
   "source": [
    "\n",
    "\n",
    "\n",
    "#Aprendizaje no supervisado:\n",
    "\n",
    "El aprendizaje no supervisado puede ser útil para identificar patrones en los datos. Podrías usar técnicas de clustering como K-means para agrupar pacientes en función de características similares, lo que podría ayudar a identificar subgrupos de pacientes con demoras similares en el diagnóstico."
   ]
  },
  {
   "cell_type": "code",
   "execution_count": null,
   "metadata": {
    "id": "YZWh0CZVbHrq"
   },
   "outputs": [],
   "source": [
    "df_K =base[['TIEMPO_DEMORA', 'TIEMPO_DEMORA_TTO','EDAD_DIAGNOSTICO', 'CLASIFICACION_PANDEMIA']]"
   ]
  },
  {
   "cell_type": "code",
   "execution_count": null,
   "metadata": {
    "colab": {
     "base_uri": "https://localhost:8080/",
     "height": 772
    },
    "id": "_Qh-CBN5Zs2X",
    "outputId": "6fbf2773-f799-455d-abe1-c56dc08b824a"
   },
   "outputs": [],
   "source": [
    "sns.pairplot(df_K,hue = 'CLASIFICACION_PANDEMIA')"
   ]
  },
  {
   "cell_type": "markdown",
   "metadata": {
    "id": "Hsvapq0kMyqp"
   },
   "source": [
    "## No sé si sirven de mucho!"
   ]
  },
  {
   "cell_type": "code",
   "execution_count": null,
   "metadata": {
    "id": "sKWvCiOiMyqp"
   },
   "outputs": [],
   "source": [
    "import networkx as nx\n",
    "import matplotlib.pyplot as plt\n",
    "\n",
    "# Crear un objeto de grafo\n",
    "G = nx.Graph()\n",
    "\n",
    "# Obtener listas únicas de grupos de edad y provincias de residencia\n",
    "grupos_de_edad = base['GRUPO_EDAD'].unique()\n",
    "provincias_residencia = base['PROVINCIA_RESIDENCIA'].unique()\n",
    "\n",
    "# Agregar nodos para grupos de edad\n",
    "for grupo in grupos_de_edad:\n",
    "    G.add_node(grupo, tipo='Grupo de Edad', color='purple')  # Puedes personalizar el color aquí\n",
    "\n",
    "# Agregar nodos para provincias de residencia\n",
    "for provincia in provincias_residencia:\n",
    "    G.add_node(provincia, tipo='Provincia de Residencia', color='blue')  # Puedes personalizar el color aquí\n",
    "\n",
    "# Agregar aristas para representar relaciones\n",
    "for _, row in base.iterrows():\n",
    "    G.add_edge(row['GRUPO_EDAD'], row['PROVINCIA_RESIDENCIA'])\n",
    "\n",
    "# Obtener colores de nodos basados en el atributo 'color'\n",
    "node_colors = [G.nodes[node]['color'] for node in G.nodes]\n",
    "\n",
    "fig, ax = plt.subplots(figsize=(12, 8))\n",
    "\n",
    "# Dibujar el grafo con colores personalizados\n",
    "pos = nx.spring_layout(G, seed=42)  # Colocación de nodos en el plano\n",
    "nx.draw_networkx_nodes(G, pos, node_size=120, node_color=node_colors, cmap=plt.cm.Reds_r)\n",
    "\n",
    "# Dibujar el resto del grafo\n",
    "nx.draw_networkx_edges(G, pos)\n",
    "nx.draw_networkx_labels(G, pos, font_size=10, font_color='black', font_weight='light')\n",
    "# Dibujar las aristas\n",
    "for edge in G.edges:\n",
    "    nx.draw_networkx_edges(G, pos, edgelist=[edge], edge_color='aquamarine')\n",
    "\n",
    "\n",
    "# Mostrar el grafo\n",
    "plt.title(\"Relaciones entre provincias de residencia y grupos de edad representado con grafos\")\n",
    "plt.show()"
   ]
  },
  {
   "cell_type": "code",
   "execution_count": null,
   "metadata": {
    "id": "qV_Tz5UQMyqp"
   },
   "outputs": [],
   "source": [
    "import networkx as nx\n",
    "import matplotlib.pyplot as plt\n",
    "\n",
    "# Crear un objeto de grafo\n",
    "G = nx.Graph()\n",
    "\n",
    "# Agregar nodos para CLASIFICACION_PANDEMIA\n",
    "clasificacion_pandemia_values = base['CLASIFICACION_PANDEMIA'].unique()\n",
    "for clasificacion_pandemia in clasificacion_pandemia_values:\n",
    "    G.add_node(clasificacion_pandemia, tipo='Clasificación Pandemia')\n",
    "\n",
    "# Agregar nodos para PROVINCIA_RESIDENCIA\n",
    "provincia_residencia_values = base['PROVINCIA_RESIDENCIA'].unique()\n",
    "for provincia_residencia in provincia_residencia_values:\n",
    "    G.add_node(provincia_residencia, tipo='Provincia de Residencia')\n",
    "\n",
    "# Asignar colores directamente a las categorías 'Antes' y 'Después' de 'CLASIFICACION_PANDEMIA'\n",
    "colores = {'Antes': 'red', 'Despues': 'blue'}\n",
    "\n",
    "# Agregar aristas según alguna lógica específica (aquí, un ejemplo simple)\n",
    "for _, row in base.iterrows():\n",
    "    G.add_edge(row['CLASIFICACION_PANDEMIA'], row['PROVINCIA_RESIDENCIA'])\n",
    "\n",
    "# Obtener los colores de los nodos en función de 'CLASIFICACION_PANDEMIA'\n",
    "node_colors = [colores.get(clasificacion, 'purple') for clasificacion in G.nodes]\n",
    "\n",
    "fig, ax = plt.subplots(figsize=(12, 8))\n",
    "\n",
    "# Dibujar el grafo con colores asignados\n",
    "pos = nx.spring_layout(G, seed=42)\n",
    "\n",
    "nx.draw_networkx(G, pos, with_labels=True, node_size=350, node_color=node_colors, font_size=12, font_color='grey', font_weight='light')\n",
    "plt.title(\"Grafo de Nodos y Aristas\")\n",
    "plt.show()\n"
   ]
  }
 ],
 "metadata": {
  "accelerator": "GPU",
  "colab": {
   "provenance": []
  },
  "kernelspec": {
   "display_name": "Python 3 (ipykernel)",
   "language": "python",
   "name": "python3"
  },
  "language_info": {
   "codemirror_mode": {
    "name": "ipython",
    "version": 3
   },
   "file_extension": ".py",
   "mimetype": "text/x-python",
   "name": "python",
   "nbconvert_exporter": "python",
   "pygments_lexer": "ipython3",
   "version": "3.10.9"
  }
 },
 "nbformat": 4,
 "nbformat_minor": 4
}
